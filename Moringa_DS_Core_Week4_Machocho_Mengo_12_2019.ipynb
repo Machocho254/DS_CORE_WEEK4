{
  "nbformat": 4,
  "nbformat_minor": 0,
  "metadata": {
    "colab": {
      "name": "Moringa_DS_Core_Week4_Machocho_Mengo_12_2019",
      "provenance": [],
      "collapsed_sections": [
        "OitTvt5-ixIA",
        "4BhpMOvjjXn9"
      ],
      "include_colab_link": true
    },
    "kernelspec": {
      "name": "python3",
      "display_name": "Python 3"
    }
  },
  "cells": [
    {
      "cell_type": "markdown",
      "metadata": {
        "id": "view-in-github",
        "colab_type": "text"
      },
      "source": [
        "<a href=\"https://colab.research.google.com/github/Machocho254/DS_CORE_WEEK4/blob/master/Moringa_DS_Core_Week4_Machocho_Mengo_12_2019.ipynb\" target=\"_parent\"><img src=\"https://colab.research.google.com/assets/colab-badge.svg\" alt=\"Open In Colab\"/></a>"
      ]
    },
    {
      "cell_type": "markdown",
      "metadata": {
        "id": "DY-14w2Vf7ri",
        "colab_type": "text"
      },
      "source": [
        "# **AUTOLIB DATA ANALYSIS AND STATISTICAL INFERENCES**"
      ]
    },
    {
      "cell_type": "markdown",
      "metadata": {
        "id": "h3BS0UgTjfBX",
        "colab_type": "text"
      },
      "source": [
        "**Requirements**\n",
        "\n",
        "\n",
        "\n",
        "1.   Univariate Analysis\n",
        "2.   Bivariate Anaysis\n",
        "3.   Hypothesis Testing\n",
        "\n"
      ]
    },
    {
      "cell_type": "markdown",
      "metadata": {
        "id": "H7n2OcFERCJ1",
        "colab_type": "text"
      },
      "source": [
        "# **PROBLEM STATEMENT**\n",
        "\n",
        "The French company wants to whether the rate of return for Bluecars in area **75015** is greater than in area **75017**\n",
        "\n",
        "\n",
        "# **HYPOTHESIS**\n",
        "\n",
        "Is the rate of return for Bluecars in 75015 greater than in 75017?\n",
        "\n"
      ]
    },
    {
      "cell_type": "markdown",
      "metadata": {
        "id": "BVh4HEU4hrjI",
        "colab_type": "text"
      },
      "source": [
        "# **LOADING AND READING THE DATASET** "
      ]
    },
    {
      "cell_type": "markdown",
      "metadata": {
        "id": "-7hRZU-P9ik8",
        "colab_type": "text"
      },
      "source": [
        "The data used in this study has been obtained from http://bit.ly/DSCoreAutolibDataset and the description to the dataset will be uploaded onto this notebook. \n",
        "\n",
        "The provided dataset is a daily aggregation, by date and postal code, of the number of events on the Autolib network (car-sharing and recharging)."
      ]
    },
    {
      "cell_type": "code",
      "metadata": {
        "id": "wl6pnQ0CmDsf",
        "colab_type": "code",
        "colab": {}
      },
      "source": [
        "# import all the required libraries for this dataset\n",
        "\n",
        "import pandas as pd\n",
        "import numpy as np\n",
        "import scipy.stats as stats\n",
        "from scipy.stats import norm\n",
        "import math\n",
        "import statistics\n",
        "import matplotlib.pyplot as plt\n",
        "\n",
        "import seaborn as sns\n",
        "\n",
        "import pandas_profiling\n",
        "\n",
        "from sklearn.cluster import KMeans\n",
        "\n",
        "from numpy.random import seed\n",
        "\n",
        "from numpy.random import randn\n",
        "\n",
        "from statsmodels.graphics.gofplots import qqplot\n",
        "\n",
        "%matplotlib inline\n"
      ],
      "execution_count": 0,
      "outputs": []
    },
    {
      "cell_type": "code",
      "metadata": {
        "id": "arqKGe1o9Y7z",
        "colab_type": "code",
        "outputId": "5e81f83a-ee62-4adb-9d83-0bfa5491d510",
        "colab": {
          "base_uri": "https://localhost:8080/",
          "height": 456
        }
      },
      "source": [
        "# uploading the dataset and creating the dataframe to be used. \n",
        "\n",
        "autolib_df = pd.read_csv(\"/content/autolib_daily_events_postal_code.csv\")\n",
        "autolib_df"
      ],
      "execution_count": 3,
      "outputs": [
        {
          "output_type": "execute_result",
          "data": {
            "text/html": [
              "<div>\n",
              "<style scoped>\n",
              "    .dataframe tbody tr th:only-of-type {\n",
              "        vertical-align: middle;\n",
              "    }\n",
              "\n",
              "    .dataframe tbody tr th {\n",
              "        vertical-align: top;\n",
              "    }\n",
              "\n",
              "    .dataframe thead th {\n",
              "        text-align: right;\n",
              "    }\n",
              "</style>\n",
              "<table border=\"1\" class=\"dataframe\">\n",
              "  <thead>\n",
              "    <tr style=\"text-align: right;\">\n",
              "      <th></th>\n",
              "      <th>Postal code</th>\n",
              "      <th>date</th>\n",
              "      <th>n_daily_data_points</th>\n",
              "      <th>dayOfWeek</th>\n",
              "      <th>day_type</th>\n",
              "      <th>BlueCars_taken_sum</th>\n",
              "      <th>BlueCars_returned_sum</th>\n",
              "      <th>Utilib_taken_sum</th>\n",
              "      <th>Utilib_returned_sum</th>\n",
              "      <th>Utilib_14_taken_sum</th>\n",
              "      <th>Utilib_14_returned_sum</th>\n",
              "      <th>Slots_freed_sum</th>\n",
              "      <th>Slots_taken_sum</th>\n",
              "    </tr>\n",
              "  </thead>\n",
              "  <tbody>\n",
              "    <tr>\n",
              "      <th>0</th>\n",
              "      <td>75001</td>\n",
              "      <td>1/1/2018</td>\n",
              "      <td>1440</td>\n",
              "      <td>0</td>\n",
              "      <td>weekday</td>\n",
              "      <td>110</td>\n",
              "      <td>103</td>\n",
              "      <td>3</td>\n",
              "      <td>2</td>\n",
              "      <td>10</td>\n",
              "      <td>9</td>\n",
              "      <td>22</td>\n",
              "      <td>20</td>\n",
              "    </tr>\n",
              "    <tr>\n",
              "      <th>1</th>\n",
              "      <td>75001</td>\n",
              "      <td>1/2/2018</td>\n",
              "      <td>1438</td>\n",
              "      <td>1</td>\n",
              "      <td>weekday</td>\n",
              "      <td>98</td>\n",
              "      <td>94</td>\n",
              "      <td>1</td>\n",
              "      <td>1</td>\n",
              "      <td>8</td>\n",
              "      <td>8</td>\n",
              "      <td>23</td>\n",
              "      <td>22</td>\n",
              "    </tr>\n",
              "    <tr>\n",
              "      <th>2</th>\n",
              "      <td>75001</td>\n",
              "      <td>1/3/2018</td>\n",
              "      <td>1439</td>\n",
              "      <td>2</td>\n",
              "      <td>weekday</td>\n",
              "      <td>138</td>\n",
              "      <td>139</td>\n",
              "      <td>0</td>\n",
              "      <td>0</td>\n",
              "      <td>2</td>\n",
              "      <td>2</td>\n",
              "      <td>27</td>\n",
              "      <td>27</td>\n",
              "    </tr>\n",
              "    <tr>\n",
              "      <th>3</th>\n",
              "      <td>75001</td>\n",
              "      <td>1/4/2018</td>\n",
              "      <td>1320</td>\n",
              "      <td>3</td>\n",
              "      <td>weekday</td>\n",
              "      <td>104</td>\n",
              "      <td>104</td>\n",
              "      <td>2</td>\n",
              "      <td>2</td>\n",
              "      <td>9</td>\n",
              "      <td>8</td>\n",
              "      <td>25</td>\n",
              "      <td>21</td>\n",
              "    </tr>\n",
              "    <tr>\n",
              "      <th>4</th>\n",
              "      <td>75001</td>\n",
              "      <td>1/5/2018</td>\n",
              "      <td>1440</td>\n",
              "      <td>4</td>\n",
              "      <td>weekday</td>\n",
              "      <td>114</td>\n",
              "      <td>117</td>\n",
              "      <td>3</td>\n",
              "      <td>3</td>\n",
              "      <td>6</td>\n",
              "      <td>6</td>\n",
              "      <td>18</td>\n",
              "      <td>20</td>\n",
              "    </tr>\n",
              "    <tr>\n",
              "      <th>...</th>\n",
              "      <td>...</td>\n",
              "      <td>...</td>\n",
              "      <td>...</td>\n",
              "      <td>...</td>\n",
              "      <td>...</td>\n",
              "      <td>...</td>\n",
              "      <td>...</td>\n",
              "      <td>...</td>\n",
              "      <td>...</td>\n",
              "      <td>...</td>\n",
              "      <td>...</td>\n",
              "      <td>...</td>\n",
              "      <td>...</td>\n",
              "    </tr>\n",
              "    <tr>\n",
              "      <th>16080</th>\n",
              "      <td>95880</td>\n",
              "      <td>6/15/2018</td>\n",
              "      <td>1440</td>\n",
              "      <td>4</td>\n",
              "      <td>weekday</td>\n",
              "      <td>15</td>\n",
              "      <td>10</td>\n",
              "      <td>0</td>\n",
              "      <td>0</td>\n",
              "      <td>2</td>\n",
              "      <td>3</td>\n",
              "      <td>0</td>\n",
              "      <td>0</td>\n",
              "    </tr>\n",
              "    <tr>\n",
              "      <th>16081</th>\n",
              "      <td>95880</td>\n",
              "      <td>6/16/2018</td>\n",
              "      <td>1440</td>\n",
              "      <td>5</td>\n",
              "      <td>weekend</td>\n",
              "      <td>19</td>\n",
              "      <td>19</td>\n",
              "      <td>0</td>\n",
              "      <td>0</td>\n",
              "      <td>2</td>\n",
              "      <td>1</td>\n",
              "      <td>0</td>\n",
              "      <td>0</td>\n",
              "    </tr>\n",
              "    <tr>\n",
              "      <th>16082</th>\n",
              "      <td>95880</td>\n",
              "      <td>6/17/2018</td>\n",
              "      <td>1440</td>\n",
              "      <td>6</td>\n",
              "      <td>weekend</td>\n",
              "      <td>33</td>\n",
              "      <td>35</td>\n",
              "      <td>1</td>\n",
              "      <td>1</td>\n",
              "      <td>0</td>\n",
              "      <td>0</td>\n",
              "      <td>0</td>\n",
              "      <td>0</td>\n",
              "    </tr>\n",
              "    <tr>\n",
              "      <th>16083</th>\n",
              "      <td>95880</td>\n",
              "      <td>6/18/2018</td>\n",
              "      <td>1440</td>\n",
              "      <td>0</td>\n",
              "      <td>weekday</td>\n",
              "      <td>11</td>\n",
              "      <td>14</td>\n",
              "      <td>3</td>\n",
              "      <td>5</td>\n",
              "      <td>2</td>\n",
              "      <td>2</td>\n",
              "      <td>0</td>\n",
              "      <td>0</td>\n",
              "    </tr>\n",
              "    <tr>\n",
              "      <th>16084</th>\n",
              "      <td>95880</td>\n",
              "      <td>6/19/2018</td>\n",
              "      <td>1370</td>\n",
              "      <td>1</td>\n",
              "      <td>weekday</td>\n",
              "      <td>2</td>\n",
              "      <td>2</td>\n",
              "      <td>2</td>\n",
              "      <td>1</td>\n",
              "      <td>0</td>\n",
              "      <td>0</td>\n",
              "      <td>0</td>\n",
              "      <td>0</td>\n",
              "    </tr>\n",
              "  </tbody>\n",
              "</table>\n",
              "<p>16085 rows × 13 columns</p>\n",
              "</div>"
            ],
            "text/plain": [
              "       Postal code       date  ...  Slots_freed_sum  Slots_taken_sum\n",
              "0            75001   1/1/2018  ...               22               20\n",
              "1            75001   1/2/2018  ...               23               22\n",
              "2            75001   1/3/2018  ...               27               27\n",
              "3            75001   1/4/2018  ...               25               21\n",
              "4            75001   1/5/2018  ...               18               20\n",
              "...            ...        ...  ...              ...              ...\n",
              "16080        95880  6/15/2018  ...                0                0\n",
              "16081        95880  6/16/2018  ...                0                0\n",
              "16082        95880  6/17/2018  ...                0                0\n",
              "16083        95880  6/18/2018  ...                0                0\n",
              "16084        95880  6/19/2018  ...                0                0\n",
              "\n",
              "[16085 rows x 13 columns]"
            ]
          },
          "metadata": {
            "tags": []
          },
          "execution_count": 3
        }
      ]
    },
    {
      "cell_type": "code",
      "metadata": {
        "id": "y1-XSS4GCfuD",
        "colab_type": "code",
        "outputId": "ab860ff7-0046-4094-d2d2-c8acf9d4d669",
        "colab": {
          "base_uri": "https://localhost:8080/",
          "height": 272
        }
      },
      "source": [
        "# reading the variable descriptions\n",
        "var_df = pd.read_excel(\"/content/columns_explanation.xlsx\", sheet_name=None)\n",
        "var_df\n",
        "\n",
        "\n",
        "#                Column name                                        explanation\n",
        "# 0              Postal code                 postal code of the area (in Paris)\n",
        "              # 1                     date                        date of the row aggregation\n",
        "              # 2      n_daily_data_points  number of daily data poinst that were availabl...\n",
        "              # 3                dayOfWeek     identifier of weekday (0: Monday -> 6: Sunday)\n",
        "              # 4                 day_type                                 weekday or weekend\n",
        "              # 5       BlueCars_taken_sum    Number of bluecars taken that date in that area\n",
        "              # 6    BlueCars_returned_sum  Number of bluecars returned that date in that ...\n",
        "              # 7         Utilib_taken_sum      Number of Utilib taken that date in that area\n",
        "              # 8      Utilib_returned_sum   Number of Utilib returned that date in that area\n",
        "              # 9      Utilib_14_taken_sum  Number of Utilib 1.4 taken that date in that area\n",
        "              # 10  Utilib_14_returned_sum  Number of Utilib 1.4 returned that date in tha...\n",
        "              # 11         Slots_freed_sum  Number of recharging slots released that date ...\n",
        "              # 12         Slots_taken_sum  Number of rechargign slots taken that date in ...)])"
      ],
      "execution_count": 4,
      "outputs": [
        {
          "output_type": "execute_result",
          "data": {
            "text/plain": [
              "OrderedDict([('Sheet1',\n",
              "                             Column name                                        explanation\n",
              "              0              Postal code                 postal code of the area (in Paris)\n",
              "              1                     date                        date of the row aggregation\n",
              "              2      n_daily_data_points  number of daily data poinst that were availabl...\n",
              "              3                dayOfWeek     identifier of weekday (0: Monday -> 6: Sunday)\n",
              "              4                 day_type                                 weekday or weekend\n",
              "              5       BlueCars_taken_sum    Number of bluecars taken that date in that area\n",
              "              6    BlueCars_returned_sum  Number of bluecars returned that date in that ...\n",
              "              7         Utilib_taken_sum      Number of Utilib taken that date in that area\n",
              "              8      Utilib_returned_sum   Number of Utilib returned that date in that area\n",
              "              9      Utilib_14_taken_sum  Number of Utilib 1.4 taken that date in that area\n",
              "              10  Utilib_14_returned_sum  Number of Utilib 1.4 returned that date in tha...\n",
              "              11         Slots_freed_sum  Number of recharging slots released that date ...\n",
              "              12         Slots_taken_sum  Number of rechargign slots taken that date in ...)])"
            ]
          },
          "metadata": {
            "tags": []
          },
          "execution_count": 4
        }
      ]
    },
    {
      "cell_type": "code",
      "metadata": {
        "id": "7PsPKYEQAwYj",
        "colab_type": "code",
        "outputId": "32b6e381-a618-4f4c-b91f-1a438055d764",
        "colab": {
          "base_uri": "https://localhost:8080/",
          "height": 241
        }
      },
      "source": [
        "# checking the first observations of the dataset\n",
        "autolib_df.head()"
      ],
      "execution_count": 5,
      "outputs": [
        {
          "output_type": "execute_result",
          "data": {
            "text/html": [
              "<div>\n",
              "<style scoped>\n",
              "    .dataframe tbody tr th:only-of-type {\n",
              "        vertical-align: middle;\n",
              "    }\n",
              "\n",
              "    .dataframe tbody tr th {\n",
              "        vertical-align: top;\n",
              "    }\n",
              "\n",
              "    .dataframe thead th {\n",
              "        text-align: right;\n",
              "    }\n",
              "</style>\n",
              "<table border=\"1\" class=\"dataframe\">\n",
              "  <thead>\n",
              "    <tr style=\"text-align: right;\">\n",
              "      <th></th>\n",
              "      <th>Postal code</th>\n",
              "      <th>date</th>\n",
              "      <th>n_daily_data_points</th>\n",
              "      <th>dayOfWeek</th>\n",
              "      <th>day_type</th>\n",
              "      <th>BlueCars_taken_sum</th>\n",
              "      <th>BlueCars_returned_sum</th>\n",
              "      <th>Utilib_taken_sum</th>\n",
              "      <th>Utilib_returned_sum</th>\n",
              "      <th>Utilib_14_taken_sum</th>\n",
              "      <th>Utilib_14_returned_sum</th>\n",
              "      <th>Slots_freed_sum</th>\n",
              "      <th>Slots_taken_sum</th>\n",
              "    </tr>\n",
              "  </thead>\n",
              "  <tbody>\n",
              "    <tr>\n",
              "      <th>0</th>\n",
              "      <td>75001</td>\n",
              "      <td>1/1/2018</td>\n",
              "      <td>1440</td>\n",
              "      <td>0</td>\n",
              "      <td>weekday</td>\n",
              "      <td>110</td>\n",
              "      <td>103</td>\n",
              "      <td>3</td>\n",
              "      <td>2</td>\n",
              "      <td>10</td>\n",
              "      <td>9</td>\n",
              "      <td>22</td>\n",
              "      <td>20</td>\n",
              "    </tr>\n",
              "    <tr>\n",
              "      <th>1</th>\n",
              "      <td>75001</td>\n",
              "      <td>1/2/2018</td>\n",
              "      <td>1438</td>\n",
              "      <td>1</td>\n",
              "      <td>weekday</td>\n",
              "      <td>98</td>\n",
              "      <td>94</td>\n",
              "      <td>1</td>\n",
              "      <td>1</td>\n",
              "      <td>8</td>\n",
              "      <td>8</td>\n",
              "      <td>23</td>\n",
              "      <td>22</td>\n",
              "    </tr>\n",
              "    <tr>\n",
              "      <th>2</th>\n",
              "      <td>75001</td>\n",
              "      <td>1/3/2018</td>\n",
              "      <td>1439</td>\n",
              "      <td>2</td>\n",
              "      <td>weekday</td>\n",
              "      <td>138</td>\n",
              "      <td>139</td>\n",
              "      <td>0</td>\n",
              "      <td>0</td>\n",
              "      <td>2</td>\n",
              "      <td>2</td>\n",
              "      <td>27</td>\n",
              "      <td>27</td>\n",
              "    </tr>\n",
              "    <tr>\n",
              "      <th>3</th>\n",
              "      <td>75001</td>\n",
              "      <td>1/4/2018</td>\n",
              "      <td>1320</td>\n",
              "      <td>3</td>\n",
              "      <td>weekday</td>\n",
              "      <td>104</td>\n",
              "      <td>104</td>\n",
              "      <td>2</td>\n",
              "      <td>2</td>\n",
              "      <td>9</td>\n",
              "      <td>8</td>\n",
              "      <td>25</td>\n",
              "      <td>21</td>\n",
              "    </tr>\n",
              "    <tr>\n",
              "      <th>4</th>\n",
              "      <td>75001</td>\n",
              "      <td>1/5/2018</td>\n",
              "      <td>1440</td>\n",
              "      <td>4</td>\n",
              "      <td>weekday</td>\n",
              "      <td>114</td>\n",
              "      <td>117</td>\n",
              "      <td>3</td>\n",
              "      <td>3</td>\n",
              "      <td>6</td>\n",
              "      <td>6</td>\n",
              "      <td>18</td>\n",
              "      <td>20</td>\n",
              "    </tr>\n",
              "  </tbody>\n",
              "</table>\n",
              "</div>"
            ],
            "text/plain": [
              "   Postal code      date  ...  Slots_freed_sum  Slots_taken_sum\n",
              "0        75001  1/1/2018  ...               22               20\n",
              "1        75001  1/2/2018  ...               23               22\n",
              "2        75001  1/3/2018  ...               27               27\n",
              "3        75001  1/4/2018  ...               25               21\n",
              "4        75001  1/5/2018  ...               18               20\n",
              "\n",
              "[5 rows x 13 columns]"
            ]
          },
          "metadata": {
            "tags": []
          },
          "execution_count": 5
        }
      ]
    },
    {
      "cell_type": "code",
      "metadata": {
        "id": "6sjhGmeAA8Nq",
        "colab_type": "code",
        "outputId": "ee62e4fd-1bbe-40ef-b303-e663d836ba47",
        "colab": {
          "base_uri": "https://localhost:8080/",
          "height": 241
        }
      },
      "source": [
        "# checking the last observations of the dataset\n",
        "autolib_df.tail()"
      ],
      "execution_count": 6,
      "outputs": [
        {
          "output_type": "execute_result",
          "data": {
            "text/html": [
              "<div>\n",
              "<style scoped>\n",
              "    .dataframe tbody tr th:only-of-type {\n",
              "        vertical-align: middle;\n",
              "    }\n",
              "\n",
              "    .dataframe tbody tr th {\n",
              "        vertical-align: top;\n",
              "    }\n",
              "\n",
              "    .dataframe thead th {\n",
              "        text-align: right;\n",
              "    }\n",
              "</style>\n",
              "<table border=\"1\" class=\"dataframe\">\n",
              "  <thead>\n",
              "    <tr style=\"text-align: right;\">\n",
              "      <th></th>\n",
              "      <th>Postal code</th>\n",
              "      <th>date</th>\n",
              "      <th>n_daily_data_points</th>\n",
              "      <th>dayOfWeek</th>\n",
              "      <th>day_type</th>\n",
              "      <th>BlueCars_taken_sum</th>\n",
              "      <th>BlueCars_returned_sum</th>\n",
              "      <th>Utilib_taken_sum</th>\n",
              "      <th>Utilib_returned_sum</th>\n",
              "      <th>Utilib_14_taken_sum</th>\n",
              "      <th>Utilib_14_returned_sum</th>\n",
              "      <th>Slots_freed_sum</th>\n",
              "      <th>Slots_taken_sum</th>\n",
              "    </tr>\n",
              "  </thead>\n",
              "  <tbody>\n",
              "    <tr>\n",
              "      <th>16080</th>\n",
              "      <td>95880</td>\n",
              "      <td>6/15/2018</td>\n",
              "      <td>1440</td>\n",
              "      <td>4</td>\n",
              "      <td>weekday</td>\n",
              "      <td>15</td>\n",
              "      <td>10</td>\n",
              "      <td>0</td>\n",
              "      <td>0</td>\n",
              "      <td>2</td>\n",
              "      <td>3</td>\n",
              "      <td>0</td>\n",
              "      <td>0</td>\n",
              "    </tr>\n",
              "    <tr>\n",
              "      <th>16081</th>\n",
              "      <td>95880</td>\n",
              "      <td>6/16/2018</td>\n",
              "      <td>1440</td>\n",
              "      <td>5</td>\n",
              "      <td>weekend</td>\n",
              "      <td>19</td>\n",
              "      <td>19</td>\n",
              "      <td>0</td>\n",
              "      <td>0</td>\n",
              "      <td>2</td>\n",
              "      <td>1</td>\n",
              "      <td>0</td>\n",
              "      <td>0</td>\n",
              "    </tr>\n",
              "    <tr>\n",
              "      <th>16082</th>\n",
              "      <td>95880</td>\n",
              "      <td>6/17/2018</td>\n",
              "      <td>1440</td>\n",
              "      <td>6</td>\n",
              "      <td>weekend</td>\n",
              "      <td>33</td>\n",
              "      <td>35</td>\n",
              "      <td>1</td>\n",
              "      <td>1</td>\n",
              "      <td>0</td>\n",
              "      <td>0</td>\n",
              "      <td>0</td>\n",
              "      <td>0</td>\n",
              "    </tr>\n",
              "    <tr>\n",
              "      <th>16083</th>\n",
              "      <td>95880</td>\n",
              "      <td>6/18/2018</td>\n",
              "      <td>1440</td>\n",
              "      <td>0</td>\n",
              "      <td>weekday</td>\n",
              "      <td>11</td>\n",
              "      <td>14</td>\n",
              "      <td>3</td>\n",
              "      <td>5</td>\n",
              "      <td>2</td>\n",
              "      <td>2</td>\n",
              "      <td>0</td>\n",
              "      <td>0</td>\n",
              "    </tr>\n",
              "    <tr>\n",
              "      <th>16084</th>\n",
              "      <td>95880</td>\n",
              "      <td>6/19/2018</td>\n",
              "      <td>1370</td>\n",
              "      <td>1</td>\n",
              "      <td>weekday</td>\n",
              "      <td>2</td>\n",
              "      <td>2</td>\n",
              "      <td>2</td>\n",
              "      <td>1</td>\n",
              "      <td>0</td>\n",
              "      <td>0</td>\n",
              "      <td>0</td>\n",
              "      <td>0</td>\n",
              "    </tr>\n",
              "  </tbody>\n",
              "</table>\n",
              "</div>"
            ],
            "text/plain": [
              "       Postal code       date  ...  Slots_freed_sum  Slots_taken_sum\n",
              "16080        95880  6/15/2018  ...                0                0\n",
              "16081        95880  6/16/2018  ...                0                0\n",
              "16082        95880  6/17/2018  ...                0                0\n",
              "16083        95880  6/18/2018  ...                0                0\n",
              "16084        95880  6/19/2018  ...                0                0\n",
              "\n",
              "[5 rows x 13 columns]"
            ]
          },
          "metadata": {
            "tags": []
          },
          "execution_count": 6
        }
      ]
    },
    {
      "cell_type": "code",
      "metadata": {
        "id": "ADZHM2JTEawV",
        "colab_type": "code",
        "outputId": "ab8db7f1-acc6-4e9b-f2f1-1d7bd9f0aaf8",
        "colab": {
          "base_uri": "https://localhost:8080/",
          "height": 323
        }
      },
      "source": [
        "# getting the information about the data\n",
        "autolib_df.info()"
      ],
      "execution_count": 7,
      "outputs": [
        {
          "output_type": "stream",
          "text": [
            "<class 'pandas.core.frame.DataFrame'>\n",
            "RangeIndex: 16085 entries, 0 to 16084\n",
            "Data columns (total 13 columns):\n",
            "Postal code               16085 non-null int64\n",
            "date                      16085 non-null object\n",
            "n_daily_data_points       16085 non-null int64\n",
            "dayOfWeek                 16085 non-null int64\n",
            "day_type                  16085 non-null object\n",
            "BlueCars_taken_sum        16085 non-null int64\n",
            "BlueCars_returned_sum     16085 non-null int64\n",
            "Utilib_taken_sum          16085 non-null int64\n",
            "Utilib_returned_sum       16085 non-null int64\n",
            "Utilib_14_taken_sum       16085 non-null int64\n",
            "Utilib_14_returned_sum    16085 non-null int64\n",
            "Slots_freed_sum           16085 non-null int64\n",
            "Slots_taken_sum           16085 non-null int64\n",
            "dtypes: int64(11), object(2)\n",
            "memory usage: 1.6+ MB\n"
          ],
          "name": "stdout"
        }
      ]
    },
    {
      "cell_type": "markdown",
      "metadata": {
        "id": "rrQLsaLIh6Fd",
        "colab_type": "text"
      },
      "source": [
        "# **DATA DESCRIPTION AND CLEANING**"
      ]
    },
    {
      "cell_type": "markdown",
      "metadata": {
        "id": "Xo2tNLgAHqse",
        "colab_type": "text"
      },
      "source": [
        "To get the descriptive statistics of the dataset. \n",
        "\n",
        "To clean the data, check for outliers, missing data and filling in th data where appropriate. "
      ]
    },
    {
      "cell_type": "code",
      "metadata": {
        "id": "ugTxqakjHnsE",
        "colab_type": "code",
        "outputId": "325eb0c2-ed30-45cc-cf35-98634cbadae8",
        "colab": {
          "base_uri": "https://localhost:8080/",
          "height": 334
        }
      },
      "source": [
        "# Desscriptive statistics of the dataset\n",
        "autolib_df.describe()"
      ],
      "execution_count": 8,
      "outputs": [
        {
          "output_type": "execute_result",
          "data": {
            "text/html": [
              "<div>\n",
              "<style scoped>\n",
              "    .dataframe tbody tr th:only-of-type {\n",
              "        vertical-align: middle;\n",
              "    }\n",
              "\n",
              "    .dataframe tbody tr th {\n",
              "        vertical-align: top;\n",
              "    }\n",
              "\n",
              "    .dataframe thead th {\n",
              "        text-align: right;\n",
              "    }\n",
              "</style>\n",
              "<table border=\"1\" class=\"dataframe\">\n",
              "  <thead>\n",
              "    <tr style=\"text-align: right;\">\n",
              "      <th></th>\n",
              "      <th>Postal code</th>\n",
              "      <th>n_daily_data_points</th>\n",
              "      <th>dayOfWeek</th>\n",
              "      <th>BlueCars_taken_sum</th>\n",
              "      <th>BlueCars_returned_sum</th>\n",
              "      <th>Utilib_taken_sum</th>\n",
              "      <th>Utilib_returned_sum</th>\n",
              "      <th>Utilib_14_taken_sum</th>\n",
              "      <th>Utilib_14_returned_sum</th>\n",
              "      <th>Slots_freed_sum</th>\n",
              "      <th>Slots_taken_sum</th>\n",
              "    </tr>\n",
              "  </thead>\n",
              "  <tbody>\n",
              "    <tr>\n",
              "      <th>count</th>\n",
              "      <td>16085.000000</td>\n",
              "      <td>16085.000000</td>\n",
              "      <td>16085.000000</td>\n",
              "      <td>16085.000000</td>\n",
              "      <td>16085.000000</td>\n",
              "      <td>16085.000000</td>\n",
              "      <td>16085.000000</td>\n",
              "      <td>16085.000000</td>\n",
              "      <td>16085.000000</td>\n",
              "      <td>16085.000000</td>\n",
              "      <td>16085.000000</td>\n",
              "    </tr>\n",
              "    <tr>\n",
              "      <th>mean</th>\n",
              "      <td>88791.293876</td>\n",
              "      <td>1431.330619</td>\n",
              "      <td>2.969599</td>\n",
              "      <td>125.926951</td>\n",
              "      <td>125.912714</td>\n",
              "      <td>3.698290</td>\n",
              "      <td>3.699099</td>\n",
              "      <td>8.600560</td>\n",
              "      <td>8.599192</td>\n",
              "      <td>22.629033</td>\n",
              "      <td>22.629282</td>\n",
              "    </tr>\n",
              "    <tr>\n",
              "      <th>std</th>\n",
              "      <td>7647.342000</td>\n",
              "      <td>33.212050</td>\n",
              "      <td>2.008378</td>\n",
              "      <td>185.426579</td>\n",
              "      <td>185.501535</td>\n",
              "      <td>5.815058</td>\n",
              "      <td>5.824634</td>\n",
              "      <td>12.870098</td>\n",
              "      <td>12.868993</td>\n",
              "      <td>52.120263</td>\n",
              "      <td>52.146030</td>\n",
              "    </tr>\n",
              "    <tr>\n",
              "      <th>min</th>\n",
              "      <td>75001.000000</td>\n",
              "      <td>1174.000000</td>\n",
              "      <td>0.000000</td>\n",
              "      <td>0.000000</td>\n",
              "      <td>0.000000</td>\n",
              "      <td>0.000000</td>\n",
              "      <td>0.000000</td>\n",
              "      <td>0.000000</td>\n",
              "      <td>0.000000</td>\n",
              "      <td>0.000000</td>\n",
              "      <td>0.000000</td>\n",
              "    </tr>\n",
              "    <tr>\n",
              "      <th>25%</th>\n",
              "      <td>91330.000000</td>\n",
              "      <td>1439.000000</td>\n",
              "      <td>1.000000</td>\n",
              "      <td>20.000000</td>\n",
              "      <td>20.000000</td>\n",
              "      <td>0.000000</td>\n",
              "      <td>0.000000</td>\n",
              "      <td>1.000000</td>\n",
              "      <td>1.000000</td>\n",
              "      <td>0.000000</td>\n",
              "      <td>0.000000</td>\n",
              "    </tr>\n",
              "    <tr>\n",
              "      <th>50%</th>\n",
              "      <td>92340.000000</td>\n",
              "      <td>1440.000000</td>\n",
              "      <td>3.000000</td>\n",
              "      <td>46.000000</td>\n",
              "      <td>46.000000</td>\n",
              "      <td>1.000000</td>\n",
              "      <td>1.000000</td>\n",
              "      <td>3.000000</td>\n",
              "      <td>3.000000</td>\n",
              "      <td>0.000000</td>\n",
              "      <td>0.000000</td>\n",
              "    </tr>\n",
              "    <tr>\n",
              "      <th>75%</th>\n",
              "      <td>93400.000000</td>\n",
              "      <td>1440.000000</td>\n",
              "      <td>5.000000</td>\n",
              "      <td>135.000000</td>\n",
              "      <td>135.000000</td>\n",
              "      <td>4.000000</td>\n",
              "      <td>4.000000</td>\n",
              "      <td>10.000000</td>\n",
              "      <td>10.000000</td>\n",
              "      <td>5.000000</td>\n",
              "      <td>5.000000</td>\n",
              "    </tr>\n",
              "    <tr>\n",
              "      <th>max</th>\n",
              "      <td>95880.000000</td>\n",
              "      <td>1440.000000</td>\n",
              "      <td>6.000000</td>\n",
              "      <td>1352.000000</td>\n",
              "      <td>1332.000000</td>\n",
              "      <td>54.000000</td>\n",
              "      <td>58.000000</td>\n",
              "      <td>100.000000</td>\n",
              "      <td>101.000000</td>\n",
              "      <td>360.000000</td>\n",
              "      <td>359.000000</td>\n",
              "    </tr>\n",
              "  </tbody>\n",
              "</table>\n",
              "</div>"
            ],
            "text/plain": [
              "        Postal code  n_daily_data_points  ...  Slots_freed_sum  Slots_taken_sum\n",
              "count  16085.000000         16085.000000  ...     16085.000000     16085.000000\n",
              "mean   88791.293876          1431.330619  ...        22.629033        22.629282\n",
              "std     7647.342000            33.212050  ...        52.120263        52.146030\n",
              "min    75001.000000          1174.000000  ...         0.000000         0.000000\n",
              "25%    91330.000000          1439.000000  ...         0.000000         0.000000\n",
              "50%    92340.000000          1440.000000  ...         0.000000         0.000000\n",
              "75%    93400.000000          1440.000000  ...         5.000000         5.000000\n",
              "max    95880.000000          1440.000000  ...       360.000000       359.000000\n",
              "\n",
              "[8 rows x 11 columns]"
            ]
          },
          "metadata": {
            "tags": []
          },
          "execution_count": 8
        }
      ]
    },
    {
      "cell_type": "code",
      "metadata": {
        "id": "PVQ4aHQWy4qC",
        "colab_type": "code",
        "outputId": "0c7d9cca-bb00-4c05-9d8e-ff1135434a5b",
        "colab": {
          "base_uri": "https://localhost:8080/",
          "height": 427
        }
      },
      "source": [
        "# to get the correlation matrix of the dataframe\n",
        "autolib_df.corr()"
      ],
      "execution_count": 9,
      "outputs": [
        {
          "output_type": "execute_result",
          "data": {
            "text/html": [
              "<div>\n",
              "<style scoped>\n",
              "    .dataframe tbody tr th:only-of-type {\n",
              "        vertical-align: middle;\n",
              "    }\n",
              "\n",
              "    .dataframe tbody tr th {\n",
              "        vertical-align: top;\n",
              "    }\n",
              "\n",
              "    .dataframe thead th {\n",
              "        text-align: right;\n",
              "    }\n",
              "</style>\n",
              "<table border=\"1\" class=\"dataframe\">\n",
              "  <thead>\n",
              "    <tr style=\"text-align: right;\">\n",
              "      <th></th>\n",
              "      <th>Postal code</th>\n",
              "      <th>n_daily_data_points</th>\n",
              "      <th>dayOfWeek</th>\n",
              "      <th>BlueCars_taken_sum</th>\n",
              "      <th>BlueCars_returned_sum</th>\n",
              "      <th>Utilib_taken_sum</th>\n",
              "      <th>Utilib_returned_sum</th>\n",
              "      <th>Utilib_14_taken_sum</th>\n",
              "      <th>Utilib_14_returned_sum</th>\n",
              "      <th>Slots_freed_sum</th>\n",
              "      <th>Slots_taken_sum</th>\n",
              "    </tr>\n",
              "  </thead>\n",
              "  <tbody>\n",
              "    <tr>\n",
              "      <th>Postal code</th>\n",
              "      <td>1.000000</td>\n",
              "      <td>0.000432</td>\n",
              "      <td>0.000343</td>\n",
              "      <td>-0.698020</td>\n",
              "      <td>-0.697519</td>\n",
              "      <td>-0.625521</td>\n",
              "      <td>-0.624786</td>\n",
              "      <td>-0.656744</td>\n",
              "      <td>-0.656516</td>\n",
              "      <td>-0.749528</td>\n",
              "      <td>-0.749157</td>\n",
              "    </tr>\n",
              "    <tr>\n",
              "      <th>n_daily_data_points</th>\n",
              "      <td>0.000432</td>\n",
              "      <td>1.000000</td>\n",
              "      <td>0.002039</td>\n",
              "      <td>0.029411</td>\n",
              "      <td>0.030063</td>\n",
              "      <td>0.022669</td>\n",
              "      <td>0.023322</td>\n",
              "      <td>0.025738</td>\n",
              "      <td>0.026351</td>\n",
              "      <td>0.020873</td>\n",
              "      <td>0.021169</td>\n",
              "    </tr>\n",
              "    <tr>\n",
              "      <th>dayOfWeek</th>\n",
              "      <td>0.000343</td>\n",
              "      <td>0.002039</td>\n",
              "      <td>1.000000</td>\n",
              "      <td>0.079649</td>\n",
              "      <td>0.081954</td>\n",
              "      <td>0.069295</td>\n",
              "      <td>0.071713</td>\n",
              "      <td>0.068790</td>\n",
              "      <td>0.071279</td>\n",
              "      <td>0.049960</td>\n",
              "      <td>0.050468</td>\n",
              "    </tr>\n",
              "    <tr>\n",
              "      <th>BlueCars_taken_sum</th>\n",
              "      <td>-0.698020</td>\n",
              "      <td>0.029411</td>\n",
              "      <td>0.079649</td>\n",
              "      <td>1.000000</td>\n",
              "      <td>0.998660</td>\n",
              "      <td>0.893833</td>\n",
              "      <td>0.892850</td>\n",
              "      <td>0.940946</td>\n",
              "      <td>0.940757</td>\n",
              "      <td>0.948575</td>\n",
              "      <td>0.947996</td>\n",
              "    </tr>\n",
              "    <tr>\n",
              "      <th>BlueCars_returned_sum</th>\n",
              "      <td>-0.697519</td>\n",
              "      <td>0.030063</td>\n",
              "      <td>0.081954</td>\n",
              "      <td>0.998660</td>\n",
              "      <td>1.000000</td>\n",
              "      <td>0.893613</td>\n",
              "      <td>0.893268</td>\n",
              "      <td>0.940542</td>\n",
              "      <td>0.941117</td>\n",
              "      <td>0.948258</td>\n",
              "      <td>0.948771</td>\n",
              "    </tr>\n",
              "    <tr>\n",
              "      <th>Utilib_taken_sum</th>\n",
              "      <td>-0.625521</td>\n",
              "      <td>0.022669</td>\n",
              "      <td>0.069295</td>\n",
              "      <td>0.893833</td>\n",
              "      <td>0.893613</td>\n",
              "      <td>1.000000</td>\n",
              "      <td>0.981982</td>\n",
              "      <td>0.847519</td>\n",
              "      <td>0.846304</td>\n",
              "      <td>0.853760</td>\n",
              "      <td>0.853049</td>\n",
              "    </tr>\n",
              "    <tr>\n",
              "      <th>Utilib_returned_sum</th>\n",
              "      <td>-0.624786</td>\n",
              "      <td>0.023322</td>\n",
              "      <td>0.071713</td>\n",
              "      <td>0.892850</td>\n",
              "      <td>0.893268</td>\n",
              "      <td>0.981982</td>\n",
              "      <td>1.000000</td>\n",
              "      <td>0.845645</td>\n",
              "      <td>0.845306</td>\n",
              "      <td>0.852939</td>\n",
              "      <td>0.852936</td>\n",
              "    </tr>\n",
              "    <tr>\n",
              "      <th>Utilib_14_taken_sum</th>\n",
              "      <td>-0.656744</td>\n",
              "      <td>0.025738</td>\n",
              "      <td>0.068790</td>\n",
              "      <td>0.940946</td>\n",
              "      <td>0.940542</td>\n",
              "      <td>0.847519</td>\n",
              "      <td>0.845645</td>\n",
              "      <td>1.000000</td>\n",
              "      <td>0.992062</td>\n",
              "      <td>0.899232</td>\n",
              "      <td>0.898719</td>\n",
              "    </tr>\n",
              "    <tr>\n",
              "      <th>Utilib_14_returned_sum</th>\n",
              "      <td>-0.656516</td>\n",
              "      <td>0.026351</td>\n",
              "      <td>0.071279</td>\n",
              "      <td>0.940757</td>\n",
              "      <td>0.941117</td>\n",
              "      <td>0.846304</td>\n",
              "      <td>0.845306</td>\n",
              "      <td>0.992062</td>\n",
              "      <td>1.000000</td>\n",
              "      <td>0.899442</td>\n",
              "      <td>0.899777</td>\n",
              "    </tr>\n",
              "    <tr>\n",
              "      <th>Slots_freed_sum</th>\n",
              "      <td>-0.749528</td>\n",
              "      <td>0.020873</td>\n",
              "      <td>0.049960</td>\n",
              "      <td>0.948575</td>\n",
              "      <td>0.948258</td>\n",
              "      <td>0.853760</td>\n",
              "      <td>0.852939</td>\n",
              "      <td>0.899232</td>\n",
              "      <td>0.899442</td>\n",
              "      <td>1.000000</td>\n",
              "      <td>0.999221</td>\n",
              "    </tr>\n",
              "    <tr>\n",
              "      <th>Slots_taken_sum</th>\n",
              "      <td>-0.749157</td>\n",
              "      <td>0.021169</td>\n",
              "      <td>0.050468</td>\n",
              "      <td>0.947996</td>\n",
              "      <td>0.948771</td>\n",
              "      <td>0.853049</td>\n",
              "      <td>0.852936</td>\n",
              "      <td>0.898719</td>\n",
              "      <td>0.899777</td>\n",
              "      <td>0.999221</td>\n",
              "      <td>1.000000</td>\n",
              "    </tr>\n",
              "  </tbody>\n",
              "</table>\n",
              "</div>"
            ],
            "text/plain": [
              "                        Postal code  ...  Slots_taken_sum\n",
              "Postal code                1.000000  ...        -0.749157\n",
              "n_daily_data_points        0.000432  ...         0.021169\n",
              "dayOfWeek                  0.000343  ...         0.050468\n",
              "BlueCars_taken_sum        -0.698020  ...         0.947996\n",
              "BlueCars_returned_sum     -0.697519  ...         0.948771\n",
              "Utilib_taken_sum          -0.625521  ...         0.853049\n",
              "Utilib_returned_sum       -0.624786  ...         0.852936\n",
              "Utilib_14_taken_sum       -0.656744  ...         0.898719\n",
              "Utilib_14_returned_sum    -0.656516  ...         0.899777\n",
              "Slots_freed_sum           -0.749528  ...         0.999221\n",
              "Slots_taken_sum           -0.749157  ...         1.000000\n",
              "\n",
              "[11 rows x 11 columns]"
            ]
          },
          "metadata": {
            "tags": []
          },
          "execution_count": 9
        }
      ]
    },
    {
      "cell_type": "code",
      "metadata": {
        "id": "QdJxggZWINBW",
        "colab_type": "code",
        "outputId": "3305849f-0212-4a3c-8f58-409c7a5877a6",
        "colab": {
          "base_uri": "https://localhost:8080/",
          "height": 173
        }
      },
      "source": [
        "#Describe Non Integer variables\n",
        "df_cat = autolib_df.dtypes[autolib_df.dtypes == 'object'].index\n",
        "autolib_df[df_cat].describe()\n",
        "\n",
        "# NOn interger variables are date and day_type which are objects\n",
        "# there are 16085 observations for each of the variables\n",
        "# "
      ],
      "execution_count": 10,
      "outputs": [
        {
          "output_type": "execute_result",
          "data": {
            "text/html": [
              "<div>\n",
              "<style scoped>\n",
              "    .dataframe tbody tr th:only-of-type {\n",
              "        vertical-align: middle;\n",
              "    }\n",
              "\n",
              "    .dataframe tbody tr th {\n",
              "        vertical-align: top;\n",
              "    }\n",
              "\n",
              "    .dataframe thead th {\n",
              "        text-align: right;\n",
              "    }\n",
              "</style>\n",
              "<table border=\"1\" class=\"dataframe\">\n",
              "  <thead>\n",
              "    <tr style=\"text-align: right;\">\n",
              "      <th></th>\n",
              "      <th>date</th>\n",
              "      <th>day_type</th>\n",
              "    </tr>\n",
              "  </thead>\n",
              "  <tbody>\n",
              "    <tr>\n",
              "      <th>count</th>\n",
              "      <td>16085</td>\n",
              "      <td>16085</td>\n",
              "    </tr>\n",
              "    <tr>\n",
              "      <th>unique</th>\n",
              "      <td>156</td>\n",
              "      <td>2</td>\n",
              "    </tr>\n",
              "    <tr>\n",
              "      <th>top</th>\n",
              "      <td>5/31/2018</td>\n",
              "      <td>weekday</td>\n",
              "    </tr>\n",
              "    <tr>\n",
              "      <th>freq</th>\n",
              "      <td>104</td>\n",
              "      <td>11544</td>\n",
              "    </tr>\n",
              "  </tbody>\n",
              "</table>\n",
              "</div>"
            ],
            "text/plain": [
              "             date day_type\n",
              "count       16085    16085\n",
              "unique        156        2\n",
              "top     5/31/2018  weekday\n",
              "freq          104    11544"
            ]
          },
          "metadata": {
            "tags": []
          },
          "execution_count": 10
        }
      ]
    },
    {
      "cell_type": "markdown",
      "metadata": {
        "id": "0tFP0ouIw8Y7",
        "colab_type": "text"
      },
      "source": [
        "Change the Date to date_time"
      ]
    },
    {
      "cell_type": "code",
      "metadata": {
        "id": "hiz8HsdMw6P8",
        "colab_type": "code",
        "outputId": "c969ceac-0027-4cd1-85c9-1141a166d124",
        "colab": {
          "base_uri": "https://localhost:8080/",
          "height": 136
        }
      },
      "source": [
        "\n",
        "from datetime import datetime\n",
        "\n",
        "# convert the date time into string \n",
        "autolib_df['date'] =  pd.to_datetime(autolib_df['date'])\n",
        "autolib_df['date'].describe()\n",
        "\n",
        "#the data records are from first January 2018 to 19th June 2018"
      ],
      "execution_count": 11,
      "outputs": [
        {
          "output_type": "execute_result",
          "data": {
            "text/plain": [
              "count                   16085\n",
              "unique                    156\n",
              "top       2018-06-12 00:00:00\n",
              "freq                      104\n",
              "first     2018-01-01 00:00:00\n",
              "last      2018-06-19 00:00:00\n",
              "Name: date, dtype: object"
            ]
          },
          "metadata": {
            "tags": []
          },
          "execution_count": 11
        }
      ]
    },
    {
      "cell_type": "code",
      "metadata": {
        "id": "mnH91-RrLazS",
        "colab_type": "code",
        "outputId": "f0071220-7a44-4db1-a407-102c233fdfb1",
        "colab": {
          "base_uri": "https://localhost:8080/",
          "height": 255
        }
      },
      "source": [
        "#Unique values for each column.\n",
        "autolib_df.nunique()"
      ],
      "execution_count": 12,
      "outputs": [
        {
          "output_type": "execute_result",
          "data": {
            "text/plain": [
              "Postal code               104\n",
              "date                      156\n",
              "n_daily_data_points        23\n",
              "dayOfWeek                   7\n",
              "day_type                    2\n",
              "BlueCars_taken_sum        932\n",
              "BlueCars_returned_sum     929\n",
              "Utilib_taken_sum           48\n",
              "Utilib_returned_sum        49\n",
              "Utilib_14_taken_sum        92\n",
              "Utilib_14_returned_sum     94\n",
              "Slots_freed_sum           297\n",
              "Slots_taken_sum           301\n",
              "dtype: int64"
            ]
          },
          "metadata": {
            "tags": []
          },
          "execution_count": 12
        }
      ]
    },
    {
      "cell_type": "code",
      "metadata": {
        "id": "k8hIpIkmv_25",
        "colab_type": "code",
        "outputId": "0f6bfeb9-c4f2-425c-a99d-d49b18477534",
        "colab": {
          "base_uri": "https://localhost:8080/",
          "height": 606
        }
      },
      "source": [
        "#The claim we are investigating is for the Blue cars only thus we drop utilib and utilib 14 columns\n",
        "df_1 = autolib_df.drop(axis= 1, columns=['Utilib_taken_sum','Utilib_returned_sum','Utilib_14_taken_sum','Utilib_14_returned_sum',])\n",
        "df_1"
      ],
      "execution_count": 13,
      "outputs": [
        {
          "output_type": "execute_result",
          "data": {
            "text/html": [
              "<div>\n",
              "<style scoped>\n",
              "    .dataframe tbody tr th:only-of-type {\n",
              "        vertical-align: middle;\n",
              "    }\n",
              "\n",
              "    .dataframe tbody tr th {\n",
              "        vertical-align: top;\n",
              "    }\n",
              "\n",
              "    .dataframe thead th {\n",
              "        text-align: right;\n",
              "    }\n",
              "</style>\n",
              "<table border=\"1\" class=\"dataframe\">\n",
              "  <thead>\n",
              "    <tr style=\"text-align: right;\">\n",
              "      <th></th>\n",
              "      <th>Postal code</th>\n",
              "      <th>date</th>\n",
              "      <th>n_daily_data_points</th>\n",
              "      <th>dayOfWeek</th>\n",
              "      <th>day_type</th>\n",
              "      <th>BlueCars_taken_sum</th>\n",
              "      <th>BlueCars_returned_sum</th>\n",
              "      <th>Slots_freed_sum</th>\n",
              "      <th>Slots_taken_sum</th>\n",
              "    </tr>\n",
              "  </thead>\n",
              "  <tbody>\n",
              "    <tr>\n",
              "      <th>0</th>\n",
              "      <td>75001</td>\n",
              "      <td>2018-01-01</td>\n",
              "      <td>1440</td>\n",
              "      <td>0</td>\n",
              "      <td>weekday</td>\n",
              "      <td>110</td>\n",
              "      <td>103</td>\n",
              "      <td>22</td>\n",
              "      <td>20</td>\n",
              "    </tr>\n",
              "    <tr>\n",
              "      <th>1</th>\n",
              "      <td>75001</td>\n",
              "      <td>2018-01-02</td>\n",
              "      <td>1438</td>\n",
              "      <td>1</td>\n",
              "      <td>weekday</td>\n",
              "      <td>98</td>\n",
              "      <td>94</td>\n",
              "      <td>23</td>\n",
              "      <td>22</td>\n",
              "    </tr>\n",
              "    <tr>\n",
              "      <th>2</th>\n",
              "      <td>75001</td>\n",
              "      <td>2018-01-03</td>\n",
              "      <td>1439</td>\n",
              "      <td>2</td>\n",
              "      <td>weekday</td>\n",
              "      <td>138</td>\n",
              "      <td>139</td>\n",
              "      <td>27</td>\n",
              "      <td>27</td>\n",
              "    </tr>\n",
              "    <tr>\n",
              "      <th>3</th>\n",
              "      <td>75001</td>\n",
              "      <td>2018-01-04</td>\n",
              "      <td>1320</td>\n",
              "      <td>3</td>\n",
              "      <td>weekday</td>\n",
              "      <td>104</td>\n",
              "      <td>104</td>\n",
              "      <td>25</td>\n",
              "      <td>21</td>\n",
              "    </tr>\n",
              "    <tr>\n",
              "      <th>4</th>\n",
              "      <td>75001</td>\n",
              "      <td>2018-01-05</td>\n",
              "      <td>1440</td>\n",
              "      <td>4</td>\n",
              "      <td>weekday</td>\n",
              "      <td>114</td>\n",
              "      <td>117</td>\n",
              "      <td>18</td>\n",
              "      <td>20</td>\n",
              "    </tr>\n",
              "    <tr>\n",
              "      <th>...</th>\n",
              "      <td>...</td>\n",
              "      <td>...</td>\n",
              "      <td>...</td>\n",
              "      <td>...</td>\n",
              "      <td>...</td>\n",
              "      <td>...</td>\n",
              "      <td>...</td>\n",
              "      <td>...</td>\n",
              "      <td>...</td>\n",
              "    </tr>\n",
              "    <tr>\n",
              "      <th>16080</th>\n",
              "      <td>95880</td>\n",
              "      <td>2018-06-15</td>\n",
              "      <td>1440</td>\n",
              "      <td>4</td>\n",
              "      <td>weekday</td>\n",
              "      <td>15</td>\n",
              "      <td>10</td>\n",
              "      <td>0</td>\n",
              "      <td>0</td>\n",
              "    </tr>\n",
              "    <tr>\n",
              "      <th>16081</th>\n",
              "      <td>95880</td>\n",
              "      <td>2018-06-16</td>\n",
              "      <td>1440</td>\n",
              "      <td>5</td>\n",
              "      <td>weekend</td>\n",
              "      <td>19</td>\n",
              "      <td>19</td>\n",
              "      <td>0</td>\n",
              "      <td>0</td>\n",
              "    </tr>\n",
              "    <tr>\n",
              "      <th>16082</th>\n",
              "      <td>95880</td>\n",
              "      <td>2018-06-17</td>\n",
              "      <td>1440</td>\n",
              "      <td>6</td>\n",
              "      <td>weekend</td>\n",
              "      <td>33</td>\n",
              "      <td>35</td>\n",
              "      <td>0</td>\n",
              "      <td>0</td>\n",
              "    </tr>\n",
              "    <tr>\n",
              "      <th>16083</th>\n",
              "      <td>95880</td>\n",
              "      <td>2018-06-18</td>\n",
              "      <td>1440</td>\n",
              "      <td>0</td>\n",
              "      <td>weekday</td>\n",
              "      <td>11</td>\n",
              "      <td>14</td>\n",
              "      <td>0</td>\n",
              "      <td>0</td>\n",
              "    </tr>\n",
              "    <tr>\n",
              "      <th>16084</th>\n",
              "      <td>95880</td>\n",
              "      <td>2018-06-19</td>\n",
              "      <td>1370</td>\n",
              "      <td>1</td>\n",
              "      <td>weekday</td>\n",
              "      <td>2</td>\n",
              "      <td>2</td>\n",
              "      <td>0</td>\n",
              "      <td>0</td>\n",
              "    </tr>\n",
              "  </tbody>\n",
              "</table>\n",
              "<p>16085 rows × 9 columns</p>\n",
              "</div>"
            ],
            "text/plain": [
              "       Postal code       date  ...  Slots_freed_sum  Slots_taken_sum\n",
              "0            75001 2018-01-01  ...               22               20\n",
              "1            75001 2018-01-02  ...               23               22\n",
              "2            75001 2018-01-03  ...               27               27\n",
              "3            75001 2018-01-04  ...               25               21\n",
              "4            75001 2018-01-05  ...               18               20\n",
              "...            ...        ...  ...              ...              ...\n",
              "16080        95880 2018-06-15  ...                0                0\n",
              "16081        95880 2018-06-16  ...                0                0\n",
              "16082        95880 2018-06-17  ...                0                0\n",
              "16083        95880 2018-06-18  ...                0                0\n",
              "16084        95880 2018-06-19  ...                0                0\n",
              "\n",
              "[16085 rows x 9 columns]"
            ]
          },
          "metadata": {
            "tags": []
          },
          "execution_count": 13
        }
      ]
    },
    {
      "cell_type": "code",
      "metadata": {
        "id": "tUHI3hjt5Ik6",
        "colab_type": "code",
        "outputId": "05b1911a-5f50-48e8-bbb5-1301d49655c9",
        "colab": {
          "base_uri": "https://localhost:8080/",
          "height": 326
        }
      },
      "source": [
        "# changing day of the week into boolian data type \n",
        "autolib_df['day_type'] = autolib_df.day_type.map({'weekday': 0, 'weekend': 1})\n",
        "autolib_df.head()"
      ],
      "execution_count": 14,
      "outputs": [
        {
          "output_type": "execute_result",
          "data": {
            "text/html": [
              "<div>\n",
              "<style scoped>\n",
              "    .dataframe tbody tr th:only-of-type {\n",
              "        vertical-align: middle;\n",
              "    }\n",
              "\n",
              "    .dataframe tbody tr th {\n",
              "        vertical-align: top;\n",
              "    }\n",
              "\n",
              "    .dataframe thead th {\n",
              "        text-align: right;\n",
              "    }\n",
              "</style>\n",
              "<table border=\"1\" class=\"dataframe\">\n",
              "  <thead>\n",
              "    <tr style=\"text-align: right;\">\n",
              "      <th></th>\n",
              "      <th>Postal code</th>\n",
              "      <th>date</th>\n",
              "      <th>n_daily_data_points</th>\n",
              "      <th>dayOfWeek</th>\n",
              "      <th>day_type</th>\n",
              "      <th>BlueCars_taken_sum</th>\n",
              "      <th>BlueCars_returned_sum</th>\n",
              "      <th>Utilib_taken_sum</th>\n",
              "      <th>Utilib_returned_sum</th>\n",
              "      <th>Utilib_14_taken_sum</th>\n",
              "      <th>Utilib_14_returned_sum</th>\n",
              "      <th>Slots_freed_sum</th>\n",
              "      <th>Slots_taken_sum</th>\n",
              "    </tr>\n",
              "  </thead>\n",
              "  <tbody>\n",
              "    <tr>\n",
              "      <th>0</th>\n",
              "      <td>75001</td>\n",
              "      <td>2018-01-01</td>\n",
              "      <td>1440</td>\n",
              "      <td>0</td>\n",
              "      <td>0</td>\n",
              "      <td>110</td>\n",
              "      <td>103</td>\n",
              "      <td>3</td>\n",
              "      <td>2</td>\n",
              "      <td>10</td>\n",
              "      <td>9</td>\n",
              "      <td>22</td>\n",
              "      <td>20</td>\n",
              "    </tr>\n",
              "    <tr>\n",
              "      <th>1</th>\n",
              "      <td>75001</td>\n",
              "      <td>2018-01-02</td>\n",
              "      <td>1438</td>\n",
              "      <td>1</td>\n",
              "      <td>0</td>\n",
              "      <td>98</td>\n",
              "      <td>94</td>\n",
              "      <td>1</td>\n",
              "      <td>1</td>\n",
              "      <td>8</td>\n",
              "      <td>8</td>\n",
              "      <td>23</td>\n",
              "      <td>22</td>\n",
              "    </tr>\n",
              "    <tr>\n",
              "      <th>2</th>\n",
              "      <td>75001</td>\n",
              "      <td>2018-01-03</td>\n",
              "      <td>1439</td>\n",
              "      <td>2</td>\n",
              "      <td>0</td>\n",
              "      <td>138</td>\n",
              "      <td>139</td>\n",
              "      <td>0</td>\n",
              "      <td>0</td>\n",
              "      <td>2</td>\n",
              "      <td>2</td>\n",
              "      <td>27</td>\n",
              "      <td>27</td>\n",
              "    </tr>\n",
              "    <tr>\n",
              "      <th>3</th>\n",
              "      <td>75001</td>\n",
              "      <td>2018-01-04</td>\n",
              "      <td>1320</td>\n",
              "      <td>3</td>\n",
              "      <td>0</td>\n",
              "      <td>104</td>\n",
              "      <td>104</td>\n",
              "      <td>2</td>\n",
              "      <td>2</td>\n",
              "      <td>9</td>\n",
              "      <td>8</td>\n",
              "      <td>25</td>\n",
              "      <td>21</td>\n",
              "    </tr>\n",
              "    <tr>\n",
              "      <th>4</th>\n",
              "      <td>75001</td>\n",
              "      <td>2018-01-05</td>\n",
              "      <td>1440</td>\n",
              "      <td>4</td>\n",
              "      <td>0</td>\n",
              "      <td>114</td>\n",
              "      <td>117</td>\n",
              "      <td>3</td>\n",
              "      <td>3</td>\n",
              "      <td>6</td>\n",
              "      <td>6</td>\n",
              "      <td>18</td>\n",
              "      <td>20</td>\n",
              "    </tr>\n",
              "  </tbody>\n",
              "</table>\n",
              "</div>"
            ],
            "text/plain": [
              "   Postal code       date  ...  Slots_freed_sum  Slots_taken_sum\n",
              "0        75001 2018-01-01  ...               22               20\n",
              "1        75001 2018-01-02  ...               23               22\n",
              "2        75001 2018-01-03  ...               27               27\n",
              "3        75001 2018-01-04  ...               25               21\n",
              "4        75001 2018-01-05  ...               18               20\n",
              "\n",
              "[5 rows x 13 columns]"
            ]
          },
          "metadata": {
            "tags": []
          },
          "execution_count": 14
        }
      ]
    },
    {
      "cell_type": "code",
      "metadata": {
        "id": "nucM35Uszdki",
        "colab_type": "code",
        "outputId": "4689507c-c59f-42ad-842b-2f1a1ffa8369",
        "colab": {
          "base_uri": "https://localhost:8080/",
          "height": 296
        }
      },
      "source": [
        "# checking for outliers for postal code\n",
        "import seaborn as sns\n",
        "sns.boxplot(x=autolib_df['Postal code'])\n",
        "\n",
        "# there are outliers in this dataset. \n",
        "# postal codes between 75000 and 80000 are outliers"
      ],
      "execution_count": 15,
      "outputs": [
        {
          "output_type": "execute_result",
          "data": {
            "text/plain": [
              "<matplotlib.axes._subplots.AxesSubplot at 0x7f6536ed4cf8>"
            ]
          },
          "metadata": {
            "tags": []
          },
          "execution_count": 15
        },
        {
          "output_type": "display_data",
          "data": {
            "image/png": "[encoded data removed]",
            "text/plain": [
              "<Figure size 432x288 with 1 Axes>"
            ]
          },
          "metadata": {
            "tags": []
          }
        }
      ]
    },
    {
      "cell_type": "code",
      "metadata": {
        "id": "PcfGf_XAe6Vi",
        "colab_type": "code",
        "outputId": "4133372c-c515-4c62-b9f9-9a0cf684031c",
        "colab": {
          "base_uri": "https://localhost:8080/",
          "height": 296
        }
      },
      "source": [
        "# checking outliers for dayOFweek\n",
        "sns.boxplot(x=autolib_df['dayOfWeek'])\n",
        "#  most of the observations are concetrated during the first and 5th day of the week"
      ],
      "execution_count": 16,
      "outputs": [
        {
          "output_type": "execute_result",
          "data": {
            "text/plain": [
              "<matplotlib.axes._subplots.AxesSubplot at 0x7f6536b63518>"
            ]
          },
          "metadata": {
            "tags": []
          },
          "execution_count": 16
        },
        {
          "output_type": "display_data",
          "data": {
            "image/png": "[encoded data removed]",
            "text/plain": [
              "<Figure size 432x288 with 1 Axes>"
            ]
          },
          "metadata": {
            "tags": []
          }
        }
      ]
    },
    {
      "cell_type": "code",
      "metadata": {
        "id": "MqeKeiVv7g8V",
        "colab_type": "code",
        "outputId": "649f547f-70c4-4ba8-dd07-afd446e12048",
        "colab": {
          "base_uri": "https://localhost:8080/",
          "height": 297
        }
      },
      "source": [
        "# checkin outliers for day type\n",
        "import seaborn as sns\n",
        "sns.boxplot(x=autolib_df['day_type'])"
      ],
      "execution_count": 17,
      "outputs": [
        {
          "output_type": "execute_result",
          "data": {
            "text/plain": [
              "<matplotlib.axes._subplots.AxesSubplot at 0x7f6536e0de48>"
            ]
          },
          "metadata": {
            "tags": []
          },
          "execution_count": 17
        },
        {
          "output_type": "display_data",
          "data": {
            "image/png": "[encoded data removed]",
            "text/plain": [
              "<Figure size 432x288 with 1 Axes>"
            ]
          },
          "metadata": {
            "tags": []
          }
        }
      ]
    },
    {
      "cell_type": "code",
      "metadata": {
        "id": "6-YbAgUg0wq3",
        "colab_type": "code",
        "outputId": "2793fe56-fffb-4063-dd47-d8ddc4aa5008",
        "colab": {
          "base_uri": "https://localhost:8080/",
          "height": 297
        }
      },
      "source": [
        "#Checking for outliers\n",
        "sns.boxplot(x = df_1['BlueCars_taken_sum'])\n",
        "#boxplot of the Blue cars taken\n",
        "#There are outliers in the data since the data is right skewed"
      ],
      "execution_count": 18,
      "outputs": [
        {
          "output_type": "execute_result",
          "data": {
            "text/plain": [
              "<matplotlib.axes._subplots.AxesSubplot at 0x7f6536d36748>"
            ]
          },
          "metadata": {
            "tags": []
          },
          "execution_count": 18
        },
        {
          "output_type": "display_data",
          "data": {
            "image/png": "[encoded data removed]",
            "text/plain": [
              "<Figure size 432x288 with 1 Axes>"
            ]
          },
          "metadata": {
            "tags": []
          }
        }
      ]
    },
    {
      "cell_type": "code",
      "metadata": {
        "id": "1lxbMSha3rDY",
        "colab_type": "code",
        "colab": {
          "base_uri": "https://localhost:8080/",
          "height": 297
        },
        "outputId": "75400635-08c4-4cb4-c234-270cda63e593"
      },
      "source": [
        "#Checking for outliers\n",
        "sns.boxplot(x = df_1['BlueCars_returned_sum'])\n",
        "#boxplot of the Blue cars returned\n",
        "#There are outliers in the data since the data is right skewed"
      ],
      "execution_count": 19,
      "outputs": [
        {
          "output_type": "execute_result",
          "data": {
            "text/plain": [
              "<matplotlib.axes._subplots.AxesSubplot at 0x7f6536d5f438>"
            ]
          },
          "metadata": {
            "tags": []
          },
          "execution_count": 19
        },
        {
          "output_type": "display_data",
          "data": {
            "image/png": "[encoded data removed]",
            "text/plain": [
              "<Figure size 432x288 with 1 Axes>"
            ]
          },
          "metadata": {
            "tags": []
          }
        }
      ]
    },
    {
      "cell_type": "code",
      "metadata": {
        "id": "1NDQ0icr3_ST",
        "colab_type": "code",
        "outputId": "baf861ef-4529-4669-9d93-b7ce3ffa9440",
        "colab": {
          "base_uri": "https://localhost:8080/",
          "height": 34
        }
      },
      "source": [
        "# using the Z score to check for outliers\n",
        "z = np.abs(stats.zscore(df_1['BlueCars_taken_sum']))\n",
        "print(z)"
      ],
      "execution_count": 20,
      "outputs": [
        {
          "output_type": "stream",
          "text": [
            "[0.08589624 0.15061389 0.06511162 ... 0.50116785 0.61981688 0.66835512]\n"
          ],
          "name": "stdout"
        }
      ]
    },
    {
      "cell_type": "code",
      "metadata": {
        "id": "CYJpMw0N4GV2",
        "colab_type": "code",
        "colab": {
          "base_uri": "https://localhost:8080/",
          "height": 34
        },
        "outputId": "3b1894d6-f474-4788-e5b7-4fc524986568"
      },
      "source": [
        "# using the Z score to check for outliers\n",
        "z = np.abs(stats.zscore(df_1['BlueCars_returned_sum']))\n",
        "print(z)"
      ],
      "execution_count": 36,
      "outputs": [
        {
          "output_type": "stream",
          "text": [
            "[0.12352149 0.17204012 0.07055302 ... 0.49010667 0.6033168  0.6680083 ]\n"
          ],
          "name": "stdout"
        }
      ]
    },
    {
      "cell_type": "code",
      "metadata": {
        "id": "59l4hoercM8-",
        "colab_type": "code",
        "outputId": "fbecb313-4a2b-4233-8f79-49f497484316",
        "colab": {
          "base_uri": "https://localhost:8080/",
          "height": 34
        }
      },
      "source": [
        "# to check for the number of outliers\n",
        "Q1 =  df_1['BlueCars_taken_sum'].quantile(0.25)\n",
        "Q3 = df_1['BlueCars_taken_sum'].quantile(0.75)\n",
        "IQR = Q3 - Q1\n",
        "df_1[(df_1['BlueCars_taken_sum'] < Q1-1.5*IQR ) | (df_1['BlueCars_taken_sum'] > Q3+1.5*IQR)]['BlueCars_taken_sum'].count()\n",
        "#there are 2215 outliers in the data based on the BlueCars_taken_sum column"
      ],
      "execution_count": 21,
      "outputs": [
        {
          "output_type": "execute_result",
          "data": {
            "text/plain": [
              "2215"
            ]
          },
          "metadata": {
            "tags": []
          },
          "execution_count": 21
        }
      ]
    },
    {
      "cell_type": "code",
      "metadata": {
        "id": "F2SqlUjB4TDx",
        "colab_type": "code",
        "colab": {
          "base_uri": "https://localhost:8080/",
          "height": 34
        },
        "outputId": "52512131-41e2-4c35-a12d-aaf63a99f4df"
      },
      "source": [
        "# to check for the number of outliers\n",
        "Q1 =  df_1['BlueCars_returned_sum'].quantile(0.25)\n",
        "Q3 = df_1['BlueCars_returned_sum'].quantile(0.75)\n",
        "IQR = Q3 - Q1\n",
        "df_1[(df_1['BlueCars_returned_sum'] < Q1-1.5*IQR ) | (df_1['BlueCars_returned_sum'] > Q3+1.5*IQR)]['BlueCars_returned_sum'].count()\n",
        "#there are 2215 outliers in the data based on the BlueCars_returned_sum column"
      ],
      "execution_count": 37,
      "outputs": [
        {
          "output_type": "execute_result",
          "data": {
            "text/plain": [
              "2213"
            ]
          },
          "metadata": {
            "tags": []
          },
          "execution_count": 37
        }
      ]
    },
    {
      "cell_type": "code",
      "metadata": {
        "id": "-Y1DEO7rAidH",
        "colab_type": "code",
        "outputId": "f9f48904-213c-4aa3-a51b-07df8a05861f",
        "colab": {
          "base_uri": "https://localhost:8080/",
          "height": 606
        }
      },
      "source": [
        "#Dropping the outliers\n",
        "filterRT = (df_1['BlueCars_returned_sum'] >= Q1 - 1.5 * IQR) & (df_1['BlueCars_returned_sum'] <= Q3 + 1.5 *IQR)\n",
        "df_2 = df_1.loc[filterRT]  \n",
        "df_2\n",
        "# 2213 records have been dropped. "
      ],
      "execution_count": 39,
      "outputs": [
        {
          "output_type": "execute_result",
          "data": {
            "text/html": [
              "<div>\n",
              "<style scoped>\n",
              "    .dataframe tbody tr th:only-of-type {\n",
              "        vertical-align: middle;\n",
              "    }\n",
              "\n",
              "    .dataframe tbody tr th {\n",
              "        vertical-align: top;\n",
              "    }\n",
              "\n",
              "    .dataframe thead th {\n",
              "        text-align: right;\n",
              "    }\n",
              "</style>\n",
              "<table border=\"1\" class=\"dataframe\">\n",
              "  <thead>\n",
              "    <tr style=\"text-align: right;\">\n",
              "      <th></th>\n",
              "      <th>Postal code</th>\n",
              "      <th>date</th>\n",
              "      <th>n_daily_data_points</th>\n",
              "      <th>dayOfWeek</th>\n",
              "      <th>day_type</th>\n",
              "      <th>BlueCars_taken_sum</th>\n",
              "      <th>BlueCars_returned_sum</th>\n",
              "      <th>Slots_freed_sum</th>\n",
              "      <th>Slots_taken_sum</th>\n",
              "    </tr>\n",
              "  </thead>\n",
              "  <tbody>\n",
              "    <tr>\n",
              "      <th>0</th>\n",
              "      <td>75001</td>\n",
              "      <td>2018-01-01</td>\n",
              "      <td>1440</td>\n",
              "      <td>0</td>\n",
              "      <td>weekday</td>\n",
              "      <td>110</td>\n",
              "      <td>103</td>\n",
              "      <td>22</td>\n",
              "      <td>20</td>\n",
              "    </tr>\n",
              "    <tr>\n",
              "      <th>1</th>\n",
              "      <td>75001</td>\n",
              "      <td>2018-01-02</td>\n",
              "      <td>1438</td>\n",
              "      <td>1</td>\n",
              "      <td>weekday</td>\n",
              "      <td>98</td>\n",
              "      <td>94</td>\n",
              "      <td>23</td>\n",
              "      <td>22</td>\n",
              "    </tr>\n",
              "    <tr>\n",
              "      <th>2</th>\n",
              "      <td>75001</td>\n",
              "      <td>2018-01-03</td>\n",
              "      <td>1439</td>\n",
              "      <td>2</td>\n",
              "      <td>weekday</td>\n",
              "      <td>138</td>\n",
              "      <td>139</td>\n",
              "      <td>27</td>\n",
              "      <td>27</td>\n",
              "    </tr>\n",
              "    <tr>\n",
              "      <th>3</th>\n",
              "      <td>75001</td>\n",
              "      <td>2018-01-04</td>\n",
              "      <td>1320</td>\n",
              "      <td>3</td>\n",
              "      <td>weekday</td>\n",
              "      <td>104</td>\n",
              "      <td>104</td>\n",
              "      <td>25</td>\n",
              "      <td>21</td>\n",
              "    </tr>\n",
              "    <tr>\n",
              "      <th>4</th>\n",
              "      <td>75001</td>\n",
              "      <td>2018-01-05</td>\n",
              "      <td>1440</td>\n",
              "      <td>4</td>\n",
              "      <td>weekday</td>\n",
              "      <td>114</td>\n",
              "      <td>117</td>\n",
              "      <td>18</td>\n",
              "      <td>20</td>\n",
              "    </tr>\n",
              "    <tr>\n",
              "      <th>...</th>\n",
              "      <td>...</td>\n",
              "      <td>...</td>\n",
              "      <td>...</td>\n",
              "      <td>...</td>\n",
              "      <td>...</td>\n",
              "      <td>...</td>\n",
              "      <td>...</td>\n",
              "      <td>...</td>\n",
              "      <td>...</td>\n",
              "    </tr>\n",
              "    <tr>\n",
              "      <th>16080</th>\n",
              "      <td>95880</td>\n",
              "      <td>2018-06-15</td>\n",
              "      <td>1440</td>\n",
              "      <td>4</td>\n",
              "      <td>weekday</td>\n",
              "      <td>15</td>\n",
              "      <td>10</td>\n",
              "      <td>0</td>\n",
              "      <td>0</td>\n",
              "    </tr>\n",
              "    <tr>\n",
              "      <th>16081</th>\n",
              "      <td>95880</td>\n",
              "      <td>2018-06-16</td>\n",
              "      <td>1440</td>\n",
              "      <td>5</td>\n",
              "      <td>weekend</td>\n",
              "      <td>19</td>\n",
              "      <td>19</td>\n",
              "      <td>0</td>\n",
              "      <td>0</td>\n",
              "    </tr>\n",
              "    <tr>\n",
              "      <th>16082</th>\n",
              "      <td>95880</td>\n",
              "      <td>2018-06-17</td>\n",
              "      <td>1440</td>\n",
              "      <td>6</td>\n",
              "      <td>weekend</td>\n",
              "      <td>33</td>\n",
              "      <td>35</td>\n",
              "      <td>0</td>\n",
              "      <td>0</td>\n",
              "    </tr>\n",
              "    <tr>\n",
              "      <th>16083</th>\n",
              "      <td>95880</td>\n",
              "      <td>2018-06-18</td>\n",
              "      <td>1440</td>\n",
              "      <td>0</td>\n",
              "      <td>weekday</td>\n",
              "      <td>11</td>\n",
              "      <td>14</td>\n",
              "      <td>0</td>\n",
              "      <td>0</td>\n",
              "    </tr>\n",
              "    <tr>\n",
              "      <th>16084</th>\n",
              "      <td>95880</td>\n",
              "      <td>2018-06-19</td>\n",
              "      <td>1370</td>\n",
              "      <td>1</td>\n",
              "      <td>weekday</td>\n",
              "      <td>2</td>\n",
              "      <td>2</td>\n",
              "      <td>0</td>\n",
              "      <td>0</td>\n",
              "    </tr>\n",
              "  </tbody>\n",
              "</table>\n",
              "<p>13872 rows × 9 columns</p>\n",
              "</div>"
            ],
            "text/plain": [
              "       Postal code       date  ...  Slots_freed_sum  Slots_taken_sum\n",
              "0            75001 2018-01-01  ...               22               20\n",
              "1            75001 2018-01-02  ...               23               22\n",
              "2            75001 2018-01-03  ...               27               27\n",
              "3            75001 2018-01-04  ...               25               21\n",
              "4            75001 2018-01-05  ...               18               20\n",
              "...            ...        ...  ...              ...              ...\n",
              "16080        95880 2018-06-15  ...                0                0\n",
              "16081        95880 2018-06-16  ...                0                0\n",
              "16082        95880 2018-06-17  ...                0                0\n",
              "16083        95880 2018-06-18  ...                0                0\n",
              "16084        95880 2018-06-19  ...                0                0\n",
              "\n",
              "[13872 rows x 9 columns]"
            ]
          },
          "metadata": {
            "tags": []
          },
          "execution_count": 39
        }
      ]
    },
    {
      "cell_type": "markdown",
      "metadata": {
        "id": "CuZAFDTLikB0",
        "colab_type": "text"
      },
      "source": [
        "# **UNIVARIATE ANALYSIS**\n",
        "\n",
        "Analysis of each variavle.\n",
        "\n",
        "\n",
        "\n",
        "1.   Measures of central tendencies\n",
        "2.   Measure of dispersion\n",
        "3.   Data visualization\n",
        "\n"
      ]
    },
    {
      "cell_type": "code",
      "metadata": {
        "id": "vXXoafGqX_fi",
        "colab_type": "code",
        "outputId": "d034e63a-d0c5-4fbf-8e24-6c5f6b7b7505",
        "colab": {
          "base_uri": "https://localhost:8080/",
          "height": 68
        }
      },
      "source": [
        "# getting the frequency table for day type variable\n",
        "\n",
        "df_2['day_type'].value_counts()\n",
        "\n",
        "# weekdays (represented by 0) has the frequency of 11544 \n",
        "# weekends has 4541 observations.\n",
        "# there is more business on weekdays vs the weekends. \n"
      ],
      "execution_count": 23,
      "outputs": [
        {
          "output_type": "execute_result",
          "data": {
            "text/plain": [
              "weekday    10072\n",
              "weekend     3798\n",
              "Name: day_type, dtype: int64"
            ]
          },
          "metadata": {
            "tags": []
          },
          "execution_count": 23
        }
      ]
    },
    {
      "cell_type": "code",
      "metadata": {
        "id": "93B6gDC-i5la",
        "colab_type": "code",
        "outputId": "fdd59940-8212-4581-b49f-48daf7b2cb50",
        "colab": {
          "base_uri": "https://localhost:8080/",
          "height": 279
        }
      },
      "source": [
        "# getting the frequency table for the dayOfweek\n",
        "df_2['dayOfWeek'].value_counts()\n",
        "\n",
        "df_2['dayOfWeek'].value_counts().plot(kind = 'bar')\n",
        "\n",
        "#plot of the data distribution for every day of the week.\n",
        "#the Distribution has minimal variation.\n",
        "\n",
        "# Monday and Tuesday have the most frequencies\n",
        "# There is more traffic on monday and tuesday. "
      ],
      "execution_count": 24,
      "outputs": [
        {
          "output_type": "execute_result",
          "data": {
            "text/plain": [
              "<matplotlib.axes._subplots.AxesSubplot at 0x7f6536c7fa90>"
            ]
          },
          "metadata": {
            "tags": []
          },
          "execution_count": 24
        },
        {
          "output_type": "display_data",
          "data": {
            "image/png": "[encoded data removed]",
            "text/plain": [
              "<Figure size 432x288 with 1 Axes>"
            ]
          },
          "metadata": {
            "tags": []
          }
        }
      ]
    },
    {
      "cell_type": "code",
      "metadata": {
        "id": "hGGMNhssmLgJ",
        "colab_type": "code",
        "outputId": "4f34006b-76e9-4ec2-a50d-aca08fd92099",
        "colab": {
          "base_uri": "https://localhost:8080/",
          "height": 295
        }
      },
      "source": [
        "# histogram of day of week frequencies\n",
        "day_week = autolib_df['dayOfWeek']\n",
        "\n",
        "plt.hist(day_week, bins=7, histtype='bar', rwidth=0.5)\n",
        "plt.xlabel('Day of week')\n",
        "plt.ylabel('Frequency')\n",
        "plt.title('Histogram of Day of week vs Frequency')\n",
        "plt.show()"
      ],
      "execution_count": 25,
      "outputs": [
        {
          "output_type": "display_data",
          "data": {
            "image/png": "[encoded data removed]",
            "text/plain": [
              "<Figure size 432x288 with 1 Axes>"
            ]
          },
          "metadata": {
            "tags": []
          }
        }
      ]
    },
    {
      "cell_type": "code",
      "metadata": {
        "id": "c0m--3eIIQy8",
        "colab_type": "code",
        "outputId": "c49d35e7-279d-4056-be25-1ce824caafa8",
        "colab": {
          "base_uri": "https://localhost:8080/",
          "height": 317
        }
      },
      "source": [
        "df_2['day_type'].value_counts().plot(kind='bar')\n",
        "#plot of type of day of the week\n",
        "#there are more entries during the weekdays than there are on weekends"
      ],
      "execution_count": 26,
      "outputs": [
        {
          "output_type": "execute_result",
          "data": {
            "text/plain": [
              "<matplotlib.axes._subplots.AxesSubplot at 0x7f6536bfe4e0>"
            ]
          },
          "metadata": {
            "tags": []
          },
          "execution_count": 26
        },
        {
          "output_type": "display_data",
          "data": {
            "image/png": "[encoded data removed]",
            "text/plain": [
              "<Figure size 432x288 with 1 Axes>"
            ]
          },
          "metadata": {
            "tags": []
          }
        }
      ]
    },
    {
      "cell_type": "code",
      "metadata": {
        "id": "JptB9C8YojLV",
        "colab_type": "code",
        "outputId": "e25b209a-dd37-4c76-e564-76be48b8f9e5",
        "colab": {
          "base_uri": "https://localhost:8080/",
          "height": 221
        }
      },
      "source": [
        "# frequency table of the postal code\n",
        "autolib_df['Postal code'].value_counts()"
      ],
      "execution_count": 27,
      "outputs": [
        {
          "output_type": "execute_result",
          "data": {
            "text/plain": [
              "94130    156\n",
              "92310    156\n",
              "78140    156\n",
              "94700    156\n",
              "95100    156\n",
              "        ... \n",
              "93150    151\n",
              "93370    149\n",
              "92340    147\n",
              "93200    126\n",
              "93390     84\n",
              "Name: Postal code, Length: 104, dtype: int64"
            ]
          },
          "metadata": {
            "tags": []
          },
          "execution_count": 27
        }
      ]
    },
    {
      "cell_type": "code",
      "metadata": {
        "id": "b-AmxnXvJfdi",
        "colab_type": "code",
        "outputId": "d823496e-b1bd-4b00-a897-472ea2a8194e",
        "colab": {
          "base_uri": "https://localhost:8080/",
          "height": 350
        }
      },
      "source": [
        "# histogram of Bluecars taken \n",
        "\n",
        "plt.hist(df_2['BlueCars_taken_sum'])\n",
        "# The data is right skewed "
      ],
      "execution_count": 28,
      "outputs": [
        {
          "output_type": "execute_result",
          "data": {
            "text/plain": [
              "(array([6009., 3347., 1573.,  886.,  595.,  477.,  224.,  214.,  278.,\n",
              "         267.]),\n",
              " array([  0. ,  30.7,  61.4,  92.1, 122.8, 153.5, 184.2, 214.9, 245.6,\n",
              "        276.3, 307. ]),\n",
              " <a list of 10 Patch objects>)"
            ]
          },
          "metadata": {
            "tags": []
          },
          "execution_count": 28
        },
        {
          "output_type": "display_data",
          "data": {
            "image/png": "[encoded data removed]",
            "text/plain": [
              "<Figure size 432x288 with 1 Axes>"
            ]
          },
          "metadata": {
            "tags": []
          }
        }
      ]
    },
    {
      "cell_type": "code",
      "metadata": {
        "id": "yMv3No_N85el",
        "colab_type": "code",
        "colab": {
          "base_uri": "https://localhost:8080/",
          "height": 350
        },
        "outputId": "5dc5de16-371a-4c43-df8b-2e8e23e63fbf"
      },
      "source": [
        "# histogram of returned Bluecars\n",
        "plt.hist(df_2['BlueCars_returned_sum'])\n",
        "\n",
        "# the data is skewed"
      ],
      "execution_count": 40,
      "outputs": [
        {
          "output_type": "execute_result",
          "data": {
            "text/plain": [
              "(array([5986., 3449., 1488.,  897.,  590.,  491.,  227.,  190.,  290.,\n",
              "         264.]),\n",
              " array([  0. ,  30.7,  61.4,  92.1, 122.8, 153.5, 184.2, 214.9, 245.6,\n",
              "        276.3, 307. ]),\n",
              " <a list of 10 Patch objects>)"
            ]
          },
          "metadata": {
            "tags": []
          },
          "execution_count": 40
        },
        {
          "output_type": "display_data",
          "data": {
            "image/png": "[encoded data removed]",
            "text/plain": [
              "<Figure size 432x288 with 1 Axes>"
            ]
          },
          "metadata": {
            "tags": []
          }
        }
      ]
    },
    {
      "cell_type": "code",
      "metadata": {
        "id": "e1f5bI1QKcCW",
        "colab_type": "code",
        "outputId": "769f8be9-3f48-41c8-faf3-e9af6417652f",
        "colab": {
          "base_uri": "https://localhost:8080/",
          "height": 295
        }
      },
      "source": [
        "# checking for normality test\n",
        "#Bluecars taken distribution on a Q-Q plot\n",
        "qqplot(df_2['BlueCars_taken_sum'], line='s')\n",
        "plt.title(\"Q-Q Plot of the BlueCars_taken_sum\")\n",
        "plt.show()\n",
        "\n",
        "#Does not follow a normal distribution\n",
        "#The qqplot confirms that the data is skewed"
      ],
      "execution_count": 29,
      "outputs": [
        {
          "output_type": "display_data",
          "data": {
            "image/png": "[encoded data removed]",
            "text/plain": [
              "<Figure size 432x288 with 1 Axes>"
            ]
          },
          "metadata": {
            "tags": []
          }
        }
      ]
    },
    {
      "cell_type": "code",
      "metadata": {
        "id": "tOxG1Fwd9T9f",
        "colab_type": "code",
        "colab": {
          "base_uri": "https://localhost:8080/",
          "height": 295
        },
        "outputId": "7115dc05-5533-4ebc-a88a-09a7b1457958"
      },
      "source": [
        "# checking for normality test\n",
        "#Bluecars Returned distribution on a Q-Q plot\n",
        "qqplot(df_2['BlueCars_returned_sum'], line='s')\n",
        "plt.title(\"Q-Q Plot of the BlueCars_returned_sum\")\n",
        "plt.show()\n",
        "\n",
        "#Does not follow a normal distribution\n",
        "#The qqplot confirms that the data is skewed"
      ],
      "execution_count": 41,
      "outputs": [
        {
          "output_type": "display_data",
          "data": {
            "image/png": "[encoded data removed]",
            "text/plain": [
              "<Figure size 432x288 with 1 Axes>"
            ]
          },
          "metadata": {
            "tags": []
          }
        }
      ]
    },
    {
      "cell_type": "code",
      "metadata": {
        "id": "PAJ74Jvjw0q7",
        "colab_type": "code",
        "outputId": "55e9cac5-4d4b-4175-95d0-59dbc010493f",
        "colab": {
          "base_uri": "https://localhost:8080/",
          "height": 68
        }
      },
      "source": [
        "# measures of central tendencies\n",
        "# mean\n",
        "\n",
        "mean_bluecarRT = autolib_df['BlueCars_returned_sum'].mean() #mean of sum returned bluecars\n",
        "print (\"Mean of Returned Bluecar is\",  mean_bluecarRT)\n",
        "\n",
        "print(\"/n\")\n",
        "\n",
        "mean_bluecarTK = autolib_df['BlueCars_taken_sum'].mean() #mean of taken bluecars\n",
        "print(\"Mean of Taken Bluecar is\", mean_bluecarTK)\n",
        "\n",
        " "
      ],
      "execution_count": 30,
      "outputs": [
        {
          "output_type": "stream",
          "text": [
            "Mean of Returned Bluecar is 125.912713708424\n",
            "/n\n",
            "Mean of Taken Bluecar is 125.92695057506994\n"
          ],
          "name": "stdout"
        }
      ]
    },
    {
      "cell_type": "code",
      "metadata": {
        "id": "S68PO3M_5cwg",
        "colab_type": "code",
        "outputId": "da1019ae-ee0f-470f-955b-456f220456b0",
        "colab": {
          "base_uri": "https://localhost:8080/",
          "height": 68
        }
      },
      "source": [
        "# measures of dispersion and spread \n",
        "# variance\n",
        "var_bluecarRT = autolib_df['BlueCars_returned_sum'].var() #variance of returned Bluecars \n",
        "print (\"Variance of Returned Bluecars is\", var_bluecarRT)\n",
        "\n",
        "print(\"/n\")\n",
        "\n",
        "var_bluecarTK = autolib_df['BlueCars_taken_sum'].var() #variance of taken Bluecars\n",
        "print (\"Variance of Taken Bluecars is\", var_bluecarTK)\n",
        "\n",
        "\n"
      ],
      "execution_count": 31,
      "outputs": [
        {
          "output_type": "stream",
          "text": [
            "Variance of Returned Bluecars is 34410.819413706275\n",
            "/n\n",
            "Variance of Taken Bluecars is 34383.01611333789\n"
          ],
          "name": "stdout"
        }
      ]
    },
    {
      "cell_type": "code",
      "metadata": {
        "id": "DjZ5PGL79ioN",
        "colab_type": "code",
        "outputId": "48916161-a1f3-4383-9e35-c008bb9deb3c",
        "colab": {
          "base_uri": "https://localhost:8080/",
          "height": 68
        }
      },
      "source": [
        "# standard deviation\n",
        "std_blueRT = autolib_df['BlueCars_returned_sum'].std()\n",
        "print(\"Standard dev of Returned bluecars is\", std_blueRT)\n",
        "\n",
        "print (\"/n\")\n",
        "\n",
        "std_blueTK = autolib_df['BlueCars_taken_sum'].std()\n",
        "print(\"The std of taken bluecars is \", std_blueTK)"
      ],
      "execution_count": 32,
      "outputs": [
        {
          "output_type": "stream",
          "text": [
            "Standard dev of Returned bluecars is 185.50153480148427\n",
            "/n\n",
            "The std of taken bluecars is  185.42657876727893\n"
          ],
          "name": "stdout"
        }
      ]
    },
    {
      "cell_type": "markdown",
      "metadata": {
        "id": "OitTvt5-ixIA",
        "colab_type": "text"
      },
      "source": [
        "# **BIVARIATE ANALYSIS**\n",
        "\n",
        "This will be the anaysis of:\n",
        "\n",
        "*   Day of the week and Bluecar\n",
        "*   Type of Day and Bluecar\n",
        "*   Postal code and Day of week\n",
        "*   Postal code and Bluecar\n",
        "*   Bluecars taken and Bluecar returned\n",
        "\n",
        "\n",
        "\n"
      ]
    },
    {
      "cell_type": "code",
      "metadata": {
        "id": "ZRmtlHbWjdR5",
        "colab_type": "code",
        "outputId": "1d064254-35dd-41cb-ccf4-fca9bb93c5c6",
        "colab": {
          "base_uri": "https://localhost:8080/",
          "height": 309
        }
      },
      "source": [
        "# Average number of Bluecars taken per day\n",
        "\n",
        "df_3 = df_2\n",
        "df_3\n",
        "df_3.groupby('dayOfWeek')['BlueCars_returned_sum'].mean().plot(kind='bar')\n",
        "plt.title('Sum of BlueCars returned  per day')"
      ],
      "execution_count": 42,
      "outputs": [
        {
          "output_type": "execute_result",
          "data": {
            "text/plain": [
              "Text(0.5, 1.0, 'Sum of BlueCars returned  per day')"
            ]
          },
          "metadata": {
            "tags": []
          },
          "execution_count": 42
        },
        {
          "output_type": "display_data",
          "data": {
            "image/png": "[encoded data removed]",
            "text/plain": [
              "<Figure size 432x288 with 1 Axes>"
            ]
          },
          "metadata": {
            "tags": []
          }
        }
      ]
    },
    {
      "cell_type": "code",
      "metadata": {
        "id": "kfOwb60DODA7",
        "colab_type": "code",
        "outputId": "3b981ab5-5558-4959-f0ee-bb7dc3cbd6d4",
        "colab": {
          "base_uri": "https://localhost:8080/",
          "height": 348
        }
      },
      "source": [
        "# average sum of Bluecars taken per type of day (weekend or weekday)\n",
        "df_4 = df_2\n",
        "df_4\n",
        "df_4.groupby('day_type')['BlueCars_returned_sum'].mean().plot(kind='bar')\n",
        "plt.title('Sum of BlueCars returned on weekends and weekdays')"
      ],
      "execution_count": 43,
      "outputs": [
        {
          "output_type": "execute_result",
          "data": {
            "text/plain": [
              "Text(0.5, 1.0, 'Sum of BlueCars returned on weekends and weekdays')"
            ]
          },
          "metadata": {
            "tags": []
          },
          "execution_count": 43
        },
        {
          "output_type": "display_data",
          "data": {
            "image/png": "[encoded data removed]",
            "text/plain": [
              "<Figure size 432x288 with 1 Axes>"
            ]
          },
          "metadata": {
            "tags": []
          }
        }
      ]
    },
    {
      "cell_type": "code",
      "metadata": {
        "id": "ZxqrAOucO2_S",
        "colab_type": "code",
        "colab": {
          "base_uri": "https://localhost:8080/",
          "height": 34
        },
        "outputId": "cc914972-6baf-433a-f3c4-5fcb62bc6e01"
      },
      "source": [
        "#Correlation between Blue cars taken and Blue Cars returned\n",
        "df_5 = df_4\n",
        "df_5\n",
        "df_5['BlueCars_taken_sum'].corr(df_5['BlueCars_returned_sum'])\n",
        "#There is very high correlation between the rate at which the  Blue cars are taken and returned"
      ],
      "execution_count": 46,
      "outputs": [
        {
          "output_type": "execute_result",
          "data": {
            "text/plain": [
              "0.995643439946841"
            ]
          },
          "metadata": {
            "tags": []
          },
          "execution_count": 46
        }
      ]
    },
    {
      "cell_type": "markdown",
      "metadata": {
        "id": "4BhpMOvjjXn9",
        "colab_type": "text"
      },
      "source": [
        "# **HYPOTHESIS TESTING**\n",
        "\n",
        "Hypothesis:\n",
        "\n",
        "Null Hypothesis:\n",
        "The rate of return for Bluecars is greater in area **75015** than in area **75017**\n",
        "\n",
        "Alternate Hypothesis:\n",
        "The rate of return for Bluecars is equal in both areas. \n",
        "\n",
        "Ho: μ0 => μ1\n",
        "\n",
        "H1: μ0 = μ1"
      ]
    },
    {
      "cell_type": "markdown",
      "metadata": {
        "id": "eQF_wI0MBMlG",
        "colab_type": "text"
      },
      "source": [
        "**Significance Level**\n",
        "\n",
        "Significance level is set at 1%\n",
        "\n",
        "α = 0.01\n"
      ]
    },
    {
      "cell_type": "markdown",
      "metadata": {
        "id": "CgbSA9-oCRME",
        "colab_type": "text"
      },
      "source": [
        "**Test Statistic**\n",
        "\n",
        "T test will be adopted as the observations are less than 30\n",
        "\n",
        "The t test formula is:   ![alt text](https://www.statsdirect.com/help/generatedimages/equations/equation166.svg)\n"
      ]
    },
    {
      "cell_type": "code",
      "metadata": {
        "id": "79QXlt55nHnY",
        "colab_type": "code",
        "colab": {
          "base_uri": "https://localhost:8080/",
          "height": 162
        },
        "outputId": "d5502156-b143-4109-a90d-f99ef2c85f32"
      },
      "source": [
        "# to get the records from area 75015\n",
        "df_75015 = df_2[df_2['Postal code'] == 75015]\n",
        "df_75015"
      ],
      "execution_count": 48,
      "outputs": [
        {
          "output_type": "execute_result",
          "data": {
            "text/html": [
              "<div>\n",
              "<style scoped>\n",
              "    .dataframe tbody tr th:only-of-type {\n",
              "        vertical-align: middle;\n",
              "    }\n",
              "\n",
              "    .dataframe tbody tr th {\n",
              "        vertical-align: top;\n",
              "    }\n",
              "\n",
              "    .dataframe thead th {\n",
              "        text-align: right;\n",
              "    }\n",
              "</style>\n",
              "<table border=\"1\" class=\"dataframe\">\n",
              "  <thead>\n",
              "    <tr style=\"text-align: right;\">\n",
              "      <th></th>\n",
              "      <th>Postal code</th>\n",
              "      <th>date</th>\n",
              "      <th>n_daily_data_points</th>\n",
              "      <th>dayOfWeek</th>\n",
              "      <th>day_type</th>\n",
              "      <th>BlueCars_taken_sum</th>\n",
              "      <th>BlueCars_returned_sum</th>\n",
              "      <th>Slots_freed_sum</th>\n",
              "      <th>Slots_taken_sum</th>\n",
              "    </tr>\n",
              "  </thead>\n",
              "  <tbody>\n",
              "    <tr>\n",
              "      <th>2238</th>\n",
              "      <td>75015</td>\n",
              "      <td>2018-02-24</td>\n",
              "      <td>1396</td>\n",
              "      <td>5</td>\n",
              "      <td>weekend</td>\n",
              "      <td>58</td>\n",
              "      <td>93</td>\n",
              "      <td>22</td>\n",
              "      <td>24</td>\n",
              "    </tr>\n",
              "    <tr>\n",
              "      <th>2339</th>\n",
              "      <td>75015</td>\n",
              "      <td>2018-06-19</td>\n",
              "      <td>1370</td>\n",
              "      <td>1</td>\n",
              "      <td>weekday</td>\n",
              "      <td>49</td>\n",
              "      <td>52</td>\n",
              "      <td>7</td>\n",
              "      <td>8</td>\n",
              "    </tr>\n",
              "  </tbody>\n",
              "</table>\n",
              "</div>"
            ],
            "text/plain": [
              "      Postal code       date  ...  Slots_freed_sum  Slots_taken_sum\n",
              "2238        75015 2018-02-24  ...               22               24\n",
              "2339        75015 2018-06-19  ...                7                8\n",
              "\n",
              "[2 rows x 9 columns]"
            ]
          },
          "metadata": {
            "tags": []
          },
          "execution_count": 48
        }
      ]
    },
    {
      "cell_type": "code",
      "metadata": {
        "id": "PEaQEQp_AcXY",
        "colab_type": "code",
        "colab": {
          "base_uri": "https://localhost:8080/",
          "height": 297
        },
        "outputId": "5318b6f8-d743-4c1a-d4fa-a9d6f5c1612f"
      },
      "source": [
        "# to get the descriptive statistics from area 75015\n",
        "df_75015.describe()"
      ],
      "execution_count": 50,
      "outputs": [
        {
          "output_type": "execute_result",
          "data": {
            "text/html": [
              "<div>\n",
              "<style scoped>\n",
              "    .dataframe tbody tr th:only-of-type {\n",
              "        vertical-align: middle;\n",
              "    }\n",
              "\n",
              "    .dataframe tbody tr th {\n",
              "        vertical-align: top;\n",
              "    }\n",
              "\n",
              "    .dataframe thead th {\n",
              "        text-align: right;\n",
              "    }\n",
              "</style>\n",
              "<table border=\"1\" class=\"dataframe\">\n",
              "  <thead>\n",
              "    <tr style=\"text-align: right;\">\n",
              "      <th></th>\n",
              "      <th>Postal code</th>\n",
              "      <th>n_daily_data_points</th>\n",
              "      <th>dayOfWeek</th>\n",
              "      <th>BlueCars_taken_sum</th>\n",
              "      <th>BlueCars_returned_sum</th>\n",
              "      <th>Slots_freed_sum</th>\n",
              "      <th>Slots_taken_sum</th>\n",
              "    </tr>\n",
              "  </thead>\n",
              "  <tbody>\n",
              "    <tr>\n",
              "      <th>count</th>\n",
              "      <td>2.0</td>\n",
              "      <td>2.000000</td>\n",
              "      <td>2.000000</td>\n",
              "      <td>2.000000</td>\n",
              "      <td>2.000000</td>\n",
              "      <td>2.000000</td>\n",
              "      <td>2.000000</td>\n",
              "    </tr>\n",
              "    <tr>\n",
              "      <th>mean</th>\n",
              "      <td>75015.0</td>\n",
              "      <td>1383.000000</td>\n",
              "      <td>3.000000</td>\n",
              "      <td>53.500000</td>\n",
              "      <td>72.500000</td>\n",
              "      <td>14.500000</td>\n",
              "      <td>16.000000</td>\n",
              "    </tr>\n",
              "    <tr>\n",
              "      <th>std</th>\n",
              "      <td>0.0</td>\n",
              "      <td>18.384776</td>\n",
              "      <td>2.828427</td>\n",
              "      <td>6.363961</td>\n",
              "      <td>28.991378</td>\n",
              "      <td>10.606602</td>\n",
              "      <td>11.313708</td>\n",
              "    </tr>\n",
              "    <tr>\n",
              "      <th>min</th>\n",
              "      <td>75015.0</td>\n",
              "      <td>1370.000000</td>\n",
              "      <td>1.000000</td>\n",
              "      <td>49.000000</td>\n",
              "      <td>52.000000</td>\n",
              "      <td>7.000000</td>\n",
              "      <td>8.000000</td>\n",
              "    </tr>\n",
              "    <tr>\n",
              "      <th>25%</th>\n",
              "      <td>75015.0</td>\n",
              "      <td>1376.500000</td>\n",
              "      <td>2.000000</td>\n",
              "      <td>51.250000</td>\n",
              "      <td>62.250000</td>\n",
              "      <td>10.750000</td>\n",
              "      <td>12.000000</td>\n",
              "    </tr>\n",
              "    <tr>\n",
              "      <th>50%</th>\n",
              "      <td>75015.0</td>\n",
              "      <td>1383.000000</td>\n",
              "      <td>3.000000</td>\n",
              "      <td>53.500000</td>\n",
              "      <td>72.500000</td>\n",
              "      <td>14.500000</td>\n",
              "      <td>16.000000</td>\n",
              "    </tr>\n",
              "    <tr>\n",
              "      <th>75%</th>\n",
              "      <td>75015.0</td>\n",
              "      <td>1389.500000</td>\n",
              "      <td>4.000000</td>\n",
              "      <td>55.750000</td>\n",
              "      <td>82.750000</td>\n",
              "      <td>18.250000</td>\n",
              "      <td>20.000000</td>\n",
              "    </tr>\n",
              "    <tr>\n",
              "      <th>max</th>\n",
              "      <td>75015.0</td>\n",
              "      <td>1396.000000</td>\n",
              "      <td>5.000000</td>\n",
              "      <td>58.000000</td>\n",
              "      <td>93.000000</td>\n",
              "      <td>22.000000</td>\n",
              "      <td>24.000000</td>\n",
              "    </tr>\n",
              "  </tbody>\n",
              "</table>\n",
              "</div>"
            ],
            "text/plain": [
              "       Postal code  n_daily_data_points  ...  Slots_freed_sum  Slots_taken_sum\n",
              "count          2.0             2.000000  ...         2.000000         2.000000\n",
              "mean       75015.0          1383.000000  ...        14.500000        16.000000\n",
              "std            0.0            18.384776  ...        10.606602        11.313708\n",
              "min        75015.0          1370.000000  ...         7.000000         8.000000\n",
              "25%        75015.0          1376.500000  ...        10.750000        12.000000\n",
              "50%        75015.0          1383.000000  ...        14.500000        16.000000\n",
              "75%        75015.0          1389.500000  ...        18.250000        20.000000\n",
              "max        75015.0          1396.000000  ...        22.000000        24.000000\n",
              "\n",
              "[8 rows x 7 columns]"
            ]
          },
          "metadata": {
            "tags": []
          },
          "execution_count": 50
        }
      ]
    },
    {
      "cell_type": "code",
      "metadata": {
        "id": "sS7sJ_89F2XJ",
        "colab_type": "code",
        "colab": {
          "base_uri": "https://localhost:8080/",
          "height": 162
        },
        "outputId": "60b6ab82-44f3-49dd-944d-8aecf2ae8e91"
      },
      "source": [
        "# to get the records from area 75017\n",
        "df_75017 = df_2[df_2['Postal code'] == 75017]\n",
        "df_75017"
      ],
      "execution_count": 49,
      "outputs": [
        {
          "output_type": "execute_result",
          "data": {
            "text/html": [
              "<div>\n",
              "<style scoped>\n",
              "    .dataframe tbody tr th:only-of-type {\n",
              "        vertical-align: middle;\n",
              "    }\n",
              "\n",
              "    .dataframe tbody tr th {\n",
              "        vertical-align: top;\n",
              "    }\n",
              "\n",
              "    .dataframe thead th {\n",
              "        text-align: right;\n",
              "    }\n",
              "</style>\n",
              "<table border=\"1\" class=\"dataframe\">\n",
              "  <thead>\n",
              "    <tr style=\"text-align: right;\">\n",
              "      <th></th>\n",
              "      <th>Postal code</th>\n",
              "      <th>date</th>\n",
              "      <th>n_daily_data_points</th>\n",
              "      <th>dayOfWeek</th>\n",
              "      <th>day_type</th>\n",
              "      <th>BlueCars_taken_sum</th>\n",
              "      <th>BlueCars_returned_sum</th>\n",
              "      <th>Slots_freed_sum</th>\n",
              "      <th>Slots_taken_sum</th>\n",
              "    </tr>\n",
              "  </thead>\n",
              "  <tbody>\n",
              "    <tr>\n",
              "      <th>2550</th>\n",
              "      <td>75017</td>\n",
              "      <td>2018-02-24</td>\n",
              "      <td>1396</td>\n",
              "      <td>5</td>\n",
              "      <td>weekend</td>\n",
              "      <td>51</td>\n",
              "      <td>57</td>\n",
              "      <td>12</td>\n",
              "      <td>10</td>\n",
              "    </tr>\n",
              "    <tr>\n",
              "      <th>2651</th>\n",
              "      <td>75017</td>\n",
              "      <td>2018-06-19</td>\n",
              "      <td>1370</td>\n",
              "      <td>1</td>\n",
              "      <td>weekday</td>\n",
              "      <td>38</td>\n",
              "      <td>41</td>\n",
              "      <td>5</td>\n",
              "      <td>5</td>\n",
              "    </tr>\n",
              "  </tbody>\n",
              "</table>\n",
              "</div>"
            ],
            "text/plain": [
              "      Postal code       date  ...  Slots_freed_sum  Slots_taken_sum\n",
              "2550        75017 2018-02-24  ...               12               10\n",
              "2651        75017 2018-06-19  ...                5                5\n",
              "\n",
              "[2 rows x 9 columns]"
            ]
          },
          "metadata": {
            "tags": []
          },
          "execution_count": 49
        }
      ]
    },
    {
      "cell_type": "code",
      "metadata": {
        "id": "autKBh54Arqi",
        "colab_type": "code",
        "colab": {
          "base_uri": "https://localhost:8080/",
          "height": 297
        },
        "outputId": "8abc2a64-9613-44bf-fcf3-db5ec03bf85f"
      },
      "source": [
        "# to get descriptive statistics for 75017\n",
        "df_75017.describe()"
      ],
      "execution_count": 51,
      "outputs": [
        {
          "output_type": "execute_result",
          "data": {
            "text/html": [
              "<div>\n",
              "<style scoped>\n",
              "    .dataframe tbody tr th:only-of-type {\n",
              "        vertical-align: middle;\n",
              "    }\n",
              "\n",
              "    .dataframe tbody tr th {\n",
              "        vertical-align: top;\n",
              "    }\n",
              "\n",
              "    .dataframe thead th {\n",
              "        text-align: right;\n",
              "    }\n",
              "</style>\n",
              "<table border=\"1\" class=\"dataframe\">\n",
              "  <thead>\n",
              "    <tr style=\"text-align: right;\">\n",
              "      <th></th>\n",
              "      <th>Postal code</th>\n",
              "      <th>n_daily_data_points</th>\n",
              "      <th>dayOfWeek</th>\n",
              "      <th>BlueCars_taken_sum</th>\n",
              "      <th>BlueCars_returned_sum</th>\n",
              "      <th>Slots_freed_sum</th>\n",
              "      <th>Slots_taken_sum</th>\n",
              "    </tr>\n",
              "  </thead>\n",
              "  <tbody>\n",
              "    <tr>\n",
              "      <th>count</th>\n",
              "      <td>2.0</td>\n",
              "      <td>2.000000</td>\n",
              "      <td>2.000000</td>\n",
              "      <td>2.000000</td>\n",
              "      <td>2.000000</td>\n",
              "      <td>2.000000</td>\n",
              "      <td>2.000000</td>\n",
              "    </tr>\n",
              "    <tr>\n",
              "      <th>mean</th>\n",
              "      <td>75017.0</td>\n",
              "      <td>1383.000000</td>\n",
              "      <td>3.000000</td>\n",
              "      <td>44.500000</td>\n",
              "      <td>49.000000</td>\n",
              "      <td>8.500000</td>\n",
              "      <td>7.500000</td>\n",
              "    </tr>\n",
              "    <tr>\n",
              "      <th>std</th>\n",
              "      <td>0.0</td>\n",
              "      <td>18.384776</td>\n",
              "      <td>2.828427</td>\n",
              "      <td>9.192388</td>\n",
              "      <td>11.313708</td>\n",
              "      <td>4.949747</td>\n",
              "      <td>3.535534</td>\n",
              "    </tr>\n",
              "    <tr>\n",
              "      <th>min</th>\n",
              "      <td>75017.0</td>\n",
              "      <td>1370.000000</td>\n",
              "      <td>1.000000</td>\n",
              "      <td>38.000000</td>\n",
              "      <td>41.000000</td>\n",
              "      <td>5.000000</td>\n",
              "      <td>5.000000</td>\n",
              "    </tr>\n",
              "    <tr>\n",
              "      <th>25%</th>\n",
              "      <td>75017.0</td>\n",
              "      <td>1376.500000</td>\n",
              "      <td>2.000000</td>\n",
              "      <td>41.250000</td>\n",
              "      <td>45.000000</td>\n",
              "      <td>6.750000</td>\n",
              "      <td>6.250000</td>\n",
              "    </tr>\n",
              "    <tr>\n",
              "      <th>50%</th>\n",
              "      <td>75017.0</td>\n",
              "      <td>1383.000000</td>\n",
              "      <td>3.000000</td>\n",
              "      <td>44.500000</td>\n",
              "      <td>49.000000</td>\n",
              "      <td>8.500000</td>\n",
              "      <td>7.500000</td>\n",
              "    </tr>\n",
              "    <tr>\n",
              "      <th>75%</th>\n",
              "      <td>75017.0</td>\n",
              "      <td>1389.500000</td>\n",
              "      <td>4.000000</td>\n",
              "      <td>47.750000</td>\n",
              "      <td>53.000000</td>\n",
              "      <td>10.250000</td>\n",
              "      <td>8.750000</td>\n",
              "    </tr>\n",
              "    <tr>\n",
              "      <th>max</th>\n",
              "      <td>75017.0</td>\n",
              "      <td>1396.000000</td>\n",
              "      <td>5.000000</td>\n",
              "      <td>51.000000</td>\n",
              "      <td>57.000000</td>\n",
              "      <td>12.000000</td>\n",
              "      <td>10.000000</td>\n",
              "    </tr>\n",
              "  </tbody>\n",
              "</table>\n",
              "</div>"
            ],
            "text/plain": [
              "       Postal code  n_daily_data_points  ...  Slots_freed_sum  Slots_taken_sum\n",
              "count          2.0             2.000000  ...         2.000000         2.000000\n",
              "mean       75017.0          1383.000000  ...         8.500000         7.500000\n",
              "std            0.0            18.384776  ...         4.949747         3.535534\n",
              "min        75017.0          1370.000000  ...         5.000000         5.000000\n",
              "25%        75017.0          1376.500000  ...         6.750000         6.250000\n",
              "50%        75017.0          1383.000000  ...         8.500000         7.500000\n",
              "75%        75017.0          1389.500000  ...        10.250000         8.750000\n",
              "max        75017.0          1396.000000  ...        12.000000        10.000000\n",
              "\n",
              "[8 rows x 7 columns]"
            ]
          },
          "metadata": {
            "tags": []
          },
          "execution_count": 51
        }
      ]
    },
    {
      "cell_type": "code",
      "metadata": {
        "id": "S-fTKm60A4ht",
        "colab_type": "code",
        "colab": {}
      },
      "source": [
        "#importing the ttest library\n",
        "from scipy.stats import ttest_ind"
      ],
      "execution_count": 0,
      "outputs": []
    },
    {
      "cell_type": "code",
      "metadata": {
        "id": "K5o5lP5LDmHg",
        "colab_type": "code",
        "colab": {
          "base_uri": "https://localhost:8080/",
          "height": 34
        },
        "outputId": "7d337f41-8565-4dcc-d928-4ef13673c8b5"
      },
      "source": [
        "ttest_ind(df_75015['BlueCars_returned_sum'], df_75017['BlueCars_returned_sum'])"
      ],
      "execution_count": 55,
      "outputs": [
        {
          "output_type": "execute_result",
          "data": {
            "text/plain": [
              "Ttest_indResult(statistic=1.067906051604825, pvalue=0.3973863709407197)"
            ]
          },
          "metadata": {
            "tags": []
          },
          "execution_count": 55
        }
      ]
    },
    {
      "cell_type": "markdown",
      "metadata": {
        "id": "PQLiZiQyEK4J",
        "colab_type": "text"
      },
      "source": [
        "# **Conclusions from Test**\n",
        "α = 0.01\n",
        "THe P-Value is 0.397386 which is greater than the value of alpha.\n",
        "\n",
        "We have insufficient evidence to reject the null hypothesis. THe rate of return for Bluecars is significantly similar for both areas 75015 and 75017. \n",
        "\n"
      ]
    },
    {
      "cell_type": "markdown",
      "metadata": {
        "id": "6dNbsWU6FHr7",
        "colab_type": "text"
      },
      "source": [
        "# **Test Sensitivity**\n",
        "\n",
        "There was no sufficient evidence to reject the null hypothesis. More tests need to be carried out to further investigate the claim. \n",
        "\n",
        "The data was not normally distributed,and hence using the mean to investigate may have been insufficient to give meaningful insight."
      ]
    }
  ]
}